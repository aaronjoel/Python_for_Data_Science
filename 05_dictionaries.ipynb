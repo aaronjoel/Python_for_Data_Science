{
  "nbformat": 4,
  "nbformat_minor": 0,
  "metadata": {
    "celltoolbar": "Tags",
    "kernelspec": {
      "display_name": "Python 3",
      "language": "python",
      "name": "python3"
    },
    "language_info": {
      "codemirror_mode": {
        "name": "ipython",
        "version": 3
      },
      "file_extension": ".py",
      "mimetype": "text/x-python",
      "name": "python",
      "nbconvert_exporter": "python",
      "pygments_lexer": "ipython3",
      "version": "3.7.7"
    },
    "colab": {
      "name": "05_dictionaries.ipynb",
      "provenance": []
    }
  },
  "cells": [
    {
      "cell_type": "markdown",
      "metadata": {
        "id": "46qMqHJROugC"
      },
      "source": [
        "# Dictionaries"
      ]
    },
    {
      "cell_type": "markdown",
      "metadata": {
        "tags": [],
        "id": "HBevhFguOugF"
      },
      "source": [
        "*Elements of Data Science*\n",
        "\n",
        "Copyright 2021 [Allen B. Downey](https://allendowney.com)\n",
        "\n",
        "License: [Creative Commons Attribution-NonCommercial-ShareAlike 4.0 International](https://creativecommons.org/licenses/by-nc-sa/4.0/)"
      ]
    },
    {
      "cell_type": "markdown",
      "metadata": {
        "tags": [],
        "id": "qtd6V106OugF"
      },
      "source": [
        "[Click here to run this notebook on Colab](https://colab.research.google.com/github/AllenDowney/ElementsOfDataScience/blob/master/05_dictionaries.ipynb) or\n",
        "[click here to download it](https://github.com/AllenDowney/ElementsOfDataScience/raw/master/05_dictionaries.ipynb)."
      ]
    },
    {
      "cell_type": "markdown",
      "metadata": {
        "id": "Vq_Ov_rvOugG"
      },
      "source": [
        "In the previous chapter we used a `for` loop to read a file and count the words.  In this chapter, you'll learn about a new type called a **dictionary**, and we'll use it to count the number of unique words and the number of times each one appears.\n",
        "\n",
        "Along the way, you will also see how to use an index to select an element from a sequence (tuple, list, or array).  And you will learn a little about Unicode, which is used to represent letters, numbers, and punctuation for almost every language in the world."
      ]
    },
    {
      "cell_type": "markdown",
      "metadata": {
        "id": "iryLp2iHOugG"
      },
      "source": [
        "## Indexing\n",
        "\n",
        "Suppose you have a variable named `t` that refers to a list or tuple.\n",
        "You can select an element using the bracket operator, `[]`.\n",
        "For example, here's a tuple of strings:"
      ]
    },
    {
      "cell_type": "code",
      "metadata": {
        "id": "Z20uAkBxOugH"
      },
      "source": [
        "t = 'zero', 'one', 'two'"
      ],
      "execution_count": 1,
      "outputs": []
    },
    {
      "cell_type": "markdown",
      "metadata": {
        "id": "69i8yVs7OugH"
      },
      "source": [
        "To select the first element, we put `0` in brackets:"
      ]
    },
    {
      "cell_type": "code",
      "metadata": {
        "id": "K0ooNualOugH",
        "outputId": "5b73d7c5-9d5b-415c-8717-46acc33a5b7c",
        "colab": {
          "base_uri": "https://localhost:8080/",
          "height": 35
        }
      },
      "source": [
        "t[0]"
      ],
      "execution_count": 2,
      "outputs": [
        {
          "output_type": "execute_result",
          "data": {
            "application/vnd.google.colaboratory.intrinsic+json": {
              "type": "string"
            },
            "text/plain": [
              "'zero'"
            ]
          },
          "metadata": {
            "tags": []
          },
          "execution_count": 2
        }
      ]
    },
    {
      "cell_type": "markdown",
      "metadata": {
        "id": "Jz3LxXJXOugI"
      },
      "source": [
        "To select the second element, we put `1` in brackets:"
      ]
    },
    {
      "cell_type": "code",
      "metadata": {
        "id": "Yc8fL0vNOugI",
        "outputId": "ca6dc920-21aa-41f4-d865-3851b1011978",
        "colab": {
          "base_uri": "https://localhost:8080/",
          "height": 35
        }
      },
      "source": [
        "t[1]"
      ],
      "execution_count": 5,
      "outputs": [
        {
          "output_type": "execute_result",
          "data": {
            "application/vnd.google.colaboratory.intrinsic+json": {
              "type": "string"
            },
            "text/plain": [
              "'one'"
            ]
          },
          "metadata": {
            "tags": []
          },
          "execution_count": 5
        }
      ]
    },
    {
      "cell_type": "markdown",
      "metadata": {
        "id": "LC8NnkmbOugI"
      },
      "source": [
        "\n",
        "To select the third element, we put `2` in brackets:"
      ]
    },
    {
      "cell_type": "code",
      "metadata": {
        "id": "y7FaeNx-OugJ",
        "outputId": "7b2db966-b647-4894-cb5d-31ac0a466995",
        "colab": {
          "base_uri": "https://localhost:8080/",
          "height": 35
        }
      },
      "source": [
        "t[2]"
      ],
      "execution_count": 6,
      "outputs": [
        {
          "output_type": "execute_result",
          "data": {
            "application/vnd.google.colaboratory.intrinsic+json": {
              "type": "string"
            },
            "text/plain": [
              "'two'"
            ]
          },
          "metadata": {
            "tags": []
          },
          "execution_count": 6
        }
      ]
    },
    {
      "cell_type": "markdown",
      "metadata": {
        "id": "5-b6lt7gOugJ"
      },
      "source": [
        "The number in brackets is called an **index** because it indicates which element we want.\n",
        "Tuples and lists use zero-based numbering; that is, the index of the first element is 0.  Some other programming languages use one-based numbering.  There are pros and cons of both systems (see <https://en.wikipedia.org/wiki/Zero-based_numbering>).\n",
        "\n",
        "The index in brackets can also be a variable:"
      ]
    },
    {
      "cell_type": "code",
      "metadata": {
        "id": "Zl1M1WPrOugJ",
        "outputId": "e902050e-d635-4bba-f932-b562aee0b643",
        "colab": {
          "base_uri": "https://localhost:8080/",
          "height": 35
        }
      },
      "source": [
        "i = 1\n",
        "t[i]"
      ],
      "execution_count": 7,
      "outputs": [
        {
          "output_type": "execute_result",
          "data": {
            "application/vnd.google.colaboratory.intrinsic+json": {
              "type": "string"
            },
            "text/plain": [
              "'one'"
            ]
          },
          "metadata": {
            "tags": []
          },
          "execution_count": 7
        }
      ]
    },
    {
      "cell_type": "markdown",
      "metadata": {
        "id": "xQRUuOG9OugK"
      },
      "source": [
        "Or an expression with variables, values, and operators:"
      ]
    },
    {
      "cell_type": "code",
      "metadata": {
        "id": "CReule6HOugK",
        "outputId": "61edcb23-3937-4e4b-d44a-c5d619adc548",
        "colab": {
          "base_uri": "https://localhost:8080/",
          "height": 35
        }
      },
      "source": [
        "t[i+1]"
      ],
      "execution_count": 8,
      "outputs": [
        {
          "output_type": "execute_result",
          "data": {
            "application/vnd.google.colaboratory.intrinsic+json": {
              "type": "string"
            },
            "text/plain": [
              "'two'"
            ]
          },
          "metadata": {
            "tags": []
          },
          "execution_count": 8
        }
      ]
    },
    {
      "cell_type": "markdown",
      "metadata": {
        "id": "MS7m8Ii7OugK"
      },
      "source": [
        "But if the index goes past the end of the list or tuple, you get an error."
      ]
    },
    {
      "cell_type": "markdown",
      "metadata": {
        "tags": [],
        "id": "sOVkYRInOugK"
      },
      "source": [
        "Run this line of code in the next cell to see what happens.\n",
        "\n",
        "```\n",
        "t[3]\n",
        "```"
      ]
    },
    {
      "cell_type": "code",
      "metadata": {
        "tags": [],
        "id": "rZhKQDVSOugL",
        "outputId": "9d954f31-3d53-4049-f928-a982face78af",
        "colab": {
          "base_uri": "https://localhost:8080/",
          "height": 163
        }
      },
      "source": [
        "t[3]"
      ],
      "execution_count": 9,
      "outputs": [
        {
          "output_type": "error",
          "ename": "IndexError",
          "evalue": "ignored",
          "traceback": [
            "\u001b[0;31m---------------------------------------------------------------------------\u001b[0m",
            "\u001b[0;31mIndexError\u001b[0m                                Traceback (most recent call last)",
            "\u001b[0;32m<ipython-input-9-ffabd0b4a246>\u001b[0m in \u001b[0;36m<module>\u001b[0;34m()\u001b[0m\n\u001b[0;32m----> 1\u001b[0;31m \u001b[0mt\u001b[0m\u001b[0;34m[\u001b[0m\u001b[0;36m3\u001b[0m\u001b[0;34m]\u001b[0m\u001b[0;34m\u001b[0m\u001b[0;34m\u001b[0m\u001b[0m\n\u001b[0m",
            "\u001b[0;31mIndexError\u001b[0m: tuple index out of range"
          ]
        }
      ]
    },
    {
      "cell_type": "markdown",
      "metadata": {
        "id": "PZf_6GnSOugL"
      },
      "source": [
        "Also, the index has to be an integer; if it is any other type, you get an error."
      ]
    },
    {
      "cell_type": "markdown",
      "metadata": {
        "tags": [],
        "id": "Fq1mv3FTOugL"
      },
      "source": [
        "Run these lines of code in the next cell to see what happens.\n",
        "\n",
        "```\n",
        "t[1.5]\n",
        "t['1']\n",
        "```"
      ]
    },
    {
      "cell_type": "code",
      "metadata": {
        "tags": [],
        "id": "AKhOutwxOugL",
        "outputId": "c0135837-2bc7-4c4e-f3dc-364d6beb8e91",
        "colab": {
          "base_uri": "https://localhost:8080/",
          "height": 163
        }
      },
      "source": [
        "t['1']"
      ],
      "execution_count": 11,
      "outputs": [
        {
          "output_type": "error",
          "ename": "TypeError",
          "evalue": "ignored",
          "traceback": [
            "\u001b[0;31m---------------------------------------------------------------------------\u001b[0m",
            "\u001b[0;31mTypeError\u001b[0m                                 Traceback (most recent call last)",
            "\u001b[0;32m<ipython-input-11-476ffea63421>\u001b[0m in \u001b[0;36m<module>\u001b[0;34m()\u001b[0m\n\u001b[0;32m----> 1\u001b[0;31m \u001b[0mt\u001b[0m\u001b[0;34m[\u001b[0m\u001b[0;34m'1'\u001b[0m\u001b[0;34m]\u001b[0m\u001b[0;34m\u001b[0m\u001b[0;34m\u001b[0m\u001b[0m\n\u001b[0m",
            "\u001b[0;31mTypeError\u001b[0m: tuple indices must be integers or slices, not str"
          ]
        }
      ]
    },
    {
      "cell_type": "markdown",
      "metadata": {
        "id": "mYslbJz3OugM"
      },
      "source": [
        "**Exercise:** You can use negative integers as indices.  Try using `-1` and `-2` as indices, and see if you can figure out what they do. "
      ]
    },
    {
      "cell_type": "code",
      "metadata": {
        "id": "GlC8tMOmOugM",
        "outputId": "f5c6ebff-0c06-45b8-dcc2-e455a6ead429",
        "colab": {
          "base_uri": "https://localhost:8080/",
          "height": 35
        }
      },
      "source": [
        "# Solution goes here\n",
        "t[-1]"
      ],
      "execution_count": 12,
      "outputs": [
        {
          "output_type": "execute_result",
          "data": {
            "application/vnd.google.colaboratory.intrinsic+json": {
              "type": "string"
            },
            "text/plain": [
              "'two'"
            ]
          },
          "metadata": {
            "tags": []
          },
          "execution_count": 12
        }
      ]
    },
    {
      "cell_type": "code",
      "metadata": {
        "id": "Csea9MVhOugM",
        "outputId": "5b5dba40-f3d9-4c3e-ebe8-5abab0b5db4f",
        "colab": {
          "base_uri": "https://localhost:8080/",
          "height": 35
        }
      },
      "source": [
        "# Solution goes here\n",
        "t[-2]"
      ],
      "execution_count": 13,
      "outputs": [
        {
          "output_type": "execute_result",
          "data": {
            "application/vnd.google.colaboratory.intrinsic+json": {
              "type": "string"
            },
            "text/plain": [
              "'one'"
            ]
          },
          "metadata": {
            "tags": []
          },
          "execution_count": 13
        }
      ]
    },
    {
      "cell_type": "markdown",
      "metadata": {
        "id": "9ezp4xP1OugM"
      },
      "source": [
        "## Dictionaries\n",
        "\n",
        "A dictionary is similar to a tuple or list, but in a dictionary, the index can be almost any type, not just an integer.\n",
        "We can create an empty dictionary like this:"
      ]
    },
    {
      "cell_type": "code",
      "metadata": {
        "id": "Yh8jbWSxOugN"
      },
      "source": [
        "d = {}"
      ],
      "execution_count": 14,
      "outputs": []
    },
    {
      "cell_type": "markdown",
      "metadata": {
        "id": "feoC8aRhOugN"
      },
      "source": [
        "Then we can add elements like this:"
      ]
    },
    {
      "cell_type": "code",
      "metadata": {
        "id": "S4dvyINzOugN"
      },
      "source": [
        "d['one'] = 1\n",
        "d['two'] = 2"
      ],
      "execution_count": 15,
      "outputs": []
    },
    {
      "cell_type": "markdown",
      "metadata": {
        "id": "O_Iv9CPkOugN"
      },
      "source": [
        "In this example, the indices are the strings, `'one'` and `'two'`\n",
        "If you display the dictionary, it shows each index and the corresponding value. "
      ]
    },
    {
      "cell_type": "code",
      "metadata": {
        "id": "eioK5n1mOugO",
        "outputId": "2f2de16c-db52-489e-b6b7-dd00701932e9",
        "colab": {
          "base_uri": "https://localhost:8080/"
        }
      },
      "source": [
        "d"
      ],
      "execution_count": 16,
      "outputs": [
        {
          "output_type": "execute_result",
          "data": {
            "text/plain": [
              "{'one': 1, 'two': 2}"
            ]
          },
          "metadata": {
            "tags": []
          },
          "execution_count": 16
        }
      ]
    },
    {
      "cell_type": "markdown",
      "metadata": {
        "id": "9bNRn1wzOugO"
      },
      "source": [
        "Instead of creating an empty dictionary and then adding elements, you can create a dictionary and specify the elements at the same time:"
      ]
    },
    {
      "cell_type": "code",
      "metadata": {
        "id": "P5YeSLNPOugO",
        "outputId": "6eb97371-4efa-4cca-910d-f618a70dd621",
        "colab": {
          "base_uri": "https://localhost:8080/"
        }
      },
      "source": [
        "d = {'one': 1, 'two': 2, 'three': 3}\n",
        "d"
      ],
      "execution_count": 17,
      "outputs": [
        {
          "output_type": "execute_result",
          "data": {
            "text/plain": [
              "{'one': 1, 'three': 3, 'two': 2}"
            ]
          },
          "metadata": {
            "tags": []
          },
          "execution_count": 17
        }
      ]
    },
    {
      "cell_type": "markdown",
      "metadata": {
        "id": "cetaX06-OugO"
      },
      "source": [
        "When we are talking about dictionaries, an index is usually called a **key**.  In this example, the keys are strings and the corresponding values are integers.\n",
        "\n",
        "A dictionary is also called a **map**, because it represents correspondence or \"mapping\", between keys and values.  So we might say that this dictionary maps from English number names to the corresponding integers.\n",
        "\n",
        "You can use the bracket operator to select an element from a dictionary, like this:"
      ]
    },
    {
      "cell_type": "code",
      "metadata": {
        "id": "FPTpqIYSOugP",
        "outputId": "032997f0-9821-4f12-96c9-19050f7d54e9",
        "colab": {
          "base_uri": "https://localhost:8080/"
        }
      },
      "source": [
        "d['two']"
      ],
      "execution_count": 18,
      "outputs": [
        {
          "output_type": "execute_result",
          "data": {
            "text/plain": [
              "2"
            ]
          },
          "metadata": {
            "tags": []
          },
          "execution_count": 18
        }
      ]
    },
    {
      "cell_type": "markdown",
      "metadata": {
        "id": "HkB4kIB2OugP"
      },
      "source": [
        "But don't forget the quotation marks.\n",
        "Without them, Python looks for a variable named `two` and doesn't find one."
      ]
    },
    {
      "cell_type": "markdown",
      "metadata": {
        "tags": [],
        "id": "mb9o1e7ZOugP"
      },
      "source": [
        "Try running the following line to see what happens.\n",
        "\n",
        "```\n",
        "d[two]\n",
        "```"
      ]
    },
    {
      "cell_type": "code",
      "metadata": {
        "tags": [],
        "id": "iyj03huyOugP"
      },
      "source": [
        ""
      ],
      "execution_count": null,
      "outputs": []
    },
    {
      "cell_type": "markdown",
      "metadata": {
        "id": "CCEiFB2SOugP"
      },
      "source": [
        "To check whether a particular key is in a dictionary, you can use the special word `in`:"
      ]
    },
    {
      "cell_type": "code",
      "metadata": {
        "id": "0KzBHHc4OugQ",
        "outputId": "ab9a40ed-9ecf-4601-e02f-4a1899470f09",
        "colab": {
          "base_uri": "https://localhost:8080/"
        }
      },
      "source": [
        "'one' in d"
      ],
      "execution_count": 19,
      "outputs": [
        {
          "output_type": "execute_result",
          "data": {
            "text/plain": [
              "True"
            ]
          },
          "metadata": {
            "tags": []
          },
          "execution_count": 19
        }
      ]
    },
    {
      "cell_type": "code",
      "metadata": {
        "id": "40BSLg_4OugQ",
        "outputId": "b9a5eb55-7a9e-40c3-b54e-df1277c2a981",
        "colab": {
          "base_uri": "https://localhost:8080/"
        }
      },
      "source": [
        "'zero' in d"
      ],
      "execution_count": 20,
      "outputs": [
        {
          "output_type": "execute_result",
          "data": {
            "text/plain": [
              "False"
            ]
          },
          "metadata": {
            "tags": []
          },
          "execution_count": 20
        }
      ]
    },
    {
      "cell_type": "markdown",
      "metadata": {
        "id": "8nI-9txbOugQ"
      },
      "source": [
        "The word `in` is actually an operator in Python, so you can't use it as a variable name."
      ]
    },
    {
      "cell_type": "markdown",
      "metadata": {
        "tags": [],
        "id": "dtFD9oFdOugQ"
      },
      "source": [
        "Try this to see what happens:\n",
        "\n",
        "```\n",
        "in = 5\n",
        "```"
      ]
    },
    {
      "cell_type": "code",
      "metadata": {
        "tags": [],
        "id": "r75Va6BZOugR",
        "outputId": "9bed3334-be11-4c3f-8e3d-ff756d2a27e0",
        "colab": {
          "base_uri": "https://localhost:8080/",
          "height": 129
        }
      },
      "source": [
        "in = 5"
      ],
      "execution_count": 21,
      "outputs": [
        {
          "output_type": "error",
          "ename": "SyntaxError",
          "evalue": "ignored",
          "traceback": [
            "\u001b[0;36m  File \u001b[0;32m\"<ipython-input-21-0e0c90d245a5>\"\u001b[0;36m, line \u001b[0;32m1\u001b[0m\n\u001b[0;31m    in = 5\u001b[0m\n\u001b[0m     ^\u001b[0m\n\u001b[0;31mSyntaxError\u001b[0m\u001b[0;31m:\u001b[0m invalid syntax\n"
          ]
        }
      ]
    },
    {
      "cell_type": "markdown",
      "metadata": {
        "id": "ImwH3HSCOugR"
      },
      "source": [
        "If a key is already in a dictionary, adding it again has no effect:"
      ]
    },
    {
      "cell_type": "code",
      "metadata": {
        "id": "BjXeusukOugR",
        "outputId": "9d2f56fd-8d76-4e8b-9922-049e44b08b09",
        "colab": {
          "base_uri": "https://localhost:8080/"
        }
      },
      "source": [
        "d"
      ],
      "execution_count": 22,
      "outputs": [
        {
          "output_type": "execute_result",
          "data": {
            "text/plain": [
              "{'one': 1, 'three': 3, 'two': 2}"
            ]
          },
          "metadata": {
            "tags": []
          },
          "execution_count": 22
        }
      ]
    },
    {
      "cell_type": "code",
      "metadata": {
        "id": "E-Zpch2rOugR",
        "outputId": "c779e0ad-af15-44d6-f790-77637fe37a80",
        "colab": {
          "base_uri": "https://localhost:8080/"
        }
      },
      "source": [
        "d['one'] = 1\n",
        "d"
      ],
      "execution_count": 23,
      "outputs": [
        {
          "output_type": "execute_result",
          "data": {
            "text/plain": [
              "{'one': 1, 'three': 3, 'two': 2}"
            ]
          },
          "metadata": {
            "tags": []
          },
          "execution_count": 23
        }
      ]
    },
    {
      "cell_type": "markdown",
      "metadata": {
        "id": "JCBcS-5lOugR"
      },
      "source": [
        "But you can change the value associated with a key:"
      ]
    },
    {
      "cell_type": "code",
      "metadata": {
        "id": "x_knxYJYOugR",
        "outputId": "2615e1a0-b903-423b-80b3-7e8ab88f4c2c",
        "colab": {
          "base_uri": "https://localhost:8080/"
        }
      },
      "source": [
        "d['one'] = 100\n",
        "d"
      ],
      "execution_count": 24,
      "outputs": [
        {
          "output_type": "execute_result",
          "data": {
            "text/plain": [
              "{'one': 100, 'three': 3, 'two': 2}"
            ]
          },
          "metadata": {
            "tags": []
          },
          "execution_count": 24
        }
      ]
    },
    {
      "cell_type": "markdown",
      "metadata": {
        "id": "K0o21r9COugS"
      },
      "source": [
        "You can loop through the keys in a dictionary like this:"
      ]
    },
    {
      "cell_type": "code",
      "metadata": {
        "id": "Xw4C2XQkOugT",
        "outputId": "40f00178-08fd-4559-e256-9de58676a391",
        "colab": {
          "base_uri": "https://localhost:8080/"
        }
      },
      "source": [
        "for key in d:\n",
        "    print(key)"
      ],
      "execution_count": 26,
      "outputs": [
        {
          "output_type": "stream",
          "text": [
            "one\n",
            "two\n",
            "three\n"
          ],
          "name": "stdout"
        }
      ]
    },
    {
      "cell_type": "markdown",
      "metadata": {
        "id": "uYtoPpIkOugT"
      },
      "source": [
        "If you want the keys and the values, one way to get them is to loop through the keys and look up the values:"
      ]
    },
    {
      "cell_type": "code",
      "metadata": {
        "id": "4wmGVB9XOugU",
        "outputId": "93a89514-c376-4bea-989b-53ae5af13af0",
        "colab": {
          "base_uri": "https://localhost:8080/"
        }
      },
      "source": [
        "for key in d:\n",
        "    print(key, d[key])"
      ],
      "execution_count": 27,
      "outputs": [
        {
          "output_type": "stream",
          "text": [
            "one 100\n",
            "two 2\n",
            "three 3\n"
          ],
          "name": "stdout"
        }
      ]
    },
    {
      "cell_type": "markdown",
      "metadata": {
        "id": "vKWWs0oQOugU"
      },
      "source": [
        "Or you can loop through both at the same time, like this:"
      ]
    },
    {
      "cell_type": "code",
      "metadata": {
        "id": "TzQZDo7AOugU"
      },
      "source": [
        "for key, value in d.items():\n",
        "    print(key, value)"
      ],
      "execution_count": null,
      "outputs": []
    },
    {
      "cell_type": "markdown",
      "metadata": {
        "id": "BnzTh8u-OugU"
      },
      "source": [
        "The `items` method loops through the key-value pairs in the dictionary; each time through the loop, they are assigned to `key` and `value`."
      ]
    },
    {
      "cell_type": "markdown",
      "metadata": {
        "id": "WZoKtzryOugV"
      },
      "source": [
        "**Exercise:** Make a dictionary with the numbers `1`, `2`, and `3` as keys and strings as values.  The strings should be the numbers \"one\", \"two\", and \"three\" in any language you know.\n",
        "\n",
        "Write a loop that prints just the values from the dictionary."
      ]
    },
    {
      "cell_type": "code",
      "metadata": {
        "id": "RYiLYgXnOugV",
        "outputId": "88f33426-f08a-49e2-bcc0-7befc2d20e9b",
        "colab": {
          "base_uri": "https://localhost:8080/"
        }
      },
      "source": [
        "# Solution goes here\n",
        "d = {2: 'two', 3:'three', 1:'one'}\n",
        "d"
      ],
      "execution_count": 28,
      "outputs": [
        {
          "output_type": "execute_result",
          "data": {
            "text/plain": [
              "{1: 'one', 2: 'two', 3: 'three'}"
            ]
          },
          "metadata": {
            "tags": []
          },
          "execution_count": 28
        }
      ]
    },
    {
      "cell_type": "code",
      "metadata": {
        "id": "5TJuDoQGOugV",
        "outputId": "52d638a7-b729-4ffc-df47-e92d8e0742fd",
        "colab": {
          "base_uri": "https://localhost:8080/"
        }
      },
      "source": [
        "# Solution goes here\n",
        "for value in d.values():\n",
        "    print(value)"
      ],
      "execution_count": 29,
      "outputs": [
        {
          "output_type": "stream",
          "text": [
            "two\n",
            "three\n",
            "one\n"
          ],
          "name": "stdout"
        }
      ]
    },
    {
      "cell_type": "code",
      "metadata": {
        "id": "eLNUwV0GOugV"
      },
      "source": [
        "# Solution goes here"
      ],
      "execution_count": null,
      "outputs": []
    },
    {
      "cell_type": "markdown",
      "metadata": {
        "id": "Qg4BrMhDOugW"
      },
      "source": [
        "## Unique words\n",
        "\n",
        "In the previous chapter we downloaded *War and Peace* from Project Gutenberg and counted the number of lines and words.\n",
        "Now that we have dictionaries, we can also count the number of unique words and the number of times each one appears."
      ]
    },
    {
      "cell_type": "markdown",
      "metadata": {
        "tags": [],
        "id": "dKwKReulOugW"
      },
      "source": [
        "First, let's download the book again.  \n",
        "When you run the following cell, it checks to see whether you already have a file named `2600-0.txt`, which is the name of the file that contains the text of *War and Peace*.\n",
        "If not, it copies the file from Project Gutenberg to your computer.  "
      ]
    },
    {
      "cell_type": "code",
      "metadata": {
        "tags": [],
        "id": "NKyvpxxDOugW",
        "outputId": "c9b1c091-2de3-437c-b88b-6331d3e3d2b2",
        "colab": {
          "base_uri": "https://localhost:8080/"
        }
      },
      "source": [
        "from os.path import basename, exists\n",
        "\n",
        "def download(url):\n",
        "    filename = basename(url)\n",
        "    print(filename, url)\n",
        "    if not exists(filename):\n",
        "        from urllib.request import urlretrieve\n",
        "        print(url, filename)\n",
        "        local, _ = urlretrieve(url, filename)\n",
        "        print('Downloaded ' + local)\n",
        "    \n",
        "download('https://www.gutenberg.org/files/2600/2600-0.txt')"
      ],
      "execution_count": 39,
      "outputs": [
        {
          "output_type": "stream",
          "text": [
            "2600-0.txt https://www.gutenberg.org/files/2600/2600-0.txt\n"
          ],
          "name": "stdout"
        }
      ]
    },
    {
      "cell_type": "markdown",
      "metadata": {
        "id": "YYZnmqA0OugX"
      },
      "source": [
        "As we did in the previous chapter, we can read the text of *War and Peace* and count the number of words."
      ]
    },
    {
      "cell_type": "code",
      "metadata": {
        "id": "Ixj7iECCOugX",
        "outputId": "fceb3108-709e-488a-9dbc-ab504cd869e2",
        "colab": {
          "base_uri": "https://localhost:8080/"
        }
      },
      "source": [
        "fp = open('2600-0.txt')\n",
        "count = 0\n",
        "for line in fp:\n",
        "    count += len(line.split())\n",
        "    \n",
        "count"
      ],
      "execution_count": 40,
      "outputs": [
        {
          "output_type": "execute_result",
          "data": {
            "text/plain": [
              "566317"
            ]
          },
          "metadata": {
            "tags": []
          },
          "execution_count": 40
        }
      ]
    },
    {
      "cell_type": "markdown",
      "metadata": {
        "id": "OT6xT_FkOugX"
      },
      "source": [
        "To count the number of unique words, I'll loop through the words in each line and add them as keys in a dictionary:"
      ]
    },
    {
      "cell_type": "code",
      "metadata": {
        "id": "ujxGYnMqOugY"
      },
      "source": [
        "fp = open('2600-0.txt')\n",
        "unique_words = {}\n",
        "for line in fp:\n",
        "    for word in line.split():\n",
        "        unique_words[word] = 1"
      ],
      "execution_count": 42,
      "outputs": []
    },
    {
      "cell_type": "markdown",
      "metadata": {
        "id": "j2buSunAOugY"
      },
      "source": [
        "This is the first example we've seen with one loop inside another.\n",
        "\n",
        "* The outer loop runs through the lines in the file.\n",
        "\n",
        "* The inner loops runs through the words in each line.\n",
        "\n",
        "Each time through the inner loop, we add a word as a key in the dictionary, with the value 1.  If the same word appears more than once, it gets added to the dictionary again, which has no effect.  So the dictionary contains only one copy of each unique word in the file.\n",
        "\n",
        "At the end of the loop, we can display the first 10 keys:"
      ]
    },
    {
      "cell_type": "code",
      "metadata": {
        "id": "m0CfK457OugY",
        "outputId": "4b8af247-f911-4649-f71a-65d344bb5bd5",
        "colab": {
          "base_uri": "https://localhost:8080/"
        }
      },
      "source": [
        "i = 0\n",
        "for key in unique_words:\n",
        "    print(key)\n",
        "    i += 1\n",
        "    if i == 10:\n",
        "        break"
      ],
      "execution_count": 43,
      "outputs": [
        {
          "output_type": "stream",
          "text": [
            "﻿\n",
            "The\n",
            "Project\n",
            "Gutenberg\n",
            "EBook\n",
            "of\n",
            "War\n",
            "and\n",
            "Peace,\n",
            "by\n"
          ],
          "name": "stdout"
        }
      ]
    },
    {
      "cell_type": "markdown",
      "metadata": {
        "id": "Am-79fuxOugZ"
      },
      "source": [
        "The dictionary contains all the words in the file, in order of first appearance.\n",
        "But each word only appears once, so the number of keys is the number of unique words:"
      ]
    },
    {
      "cell_type": "code",
      "metadata": {
        "id": "QwInkudtOugZ",
        "outputId": "31447fe1-b059-4069-8429-83f754568387",
        "colab": {
          "base_uri": "https://localhost:8080/"
        }
      },
      "source": [
        "len(unique_words)"
      ],
      "execution_count": 44,
      "outputs": [
        {
          "output_type": "execute_result",
          "data": {
            "text/plain": [
              "41991"
            ]
          },
          "metadata": {
            "tags": []
          },
          "execution_count": 44
        }
      ]
    },
    {
      "cell_type": "markdown",
      "metadata": {
        "id": "9ZZIYYm-OugZ"
      },
      "source": [
        "It looks like there are about 42,000 different words in the book, which is substantially less than the total number of words, about 560,000. \n",
        "But that's not quite right, because we have not taken into account capitalization and punctuation."
      ]
    },
    {
      "cell_type": "markdown",
      "metadata": {
        "id": "K6TC6OQOOuga"
      },
      "source": [
        "**Exercise:** Before we deal with that problem, let's practice with **nested loops**, that is, one loop inside another.\n",
        "Suppose you have a list of words, like this:"
      ]
    },
    {
      "cell_type": "code",
      "metadata": {
        "id": "-FyxFN4IOuga"
      },
      "source": [
        "line = ['War', 'and', 'Peace']"
      ],
      "execution_count": 46,
      "outputs": []
    },
    {
      "cell_type": "markdown",
      "metadata": {
        "id": "d-qtdjOBOuga"
      },
      "source": [
        "Write a nested loop that iterates through each word in the list, and each letter in each word, and prints the letters on separate lines."
      ]
    },
    {
      "cell_type": "code",
      "metadata": {
        "id": "RvajCL3ROuga",
        "outputId": "ccf14ce6-c9ea-4035-86f0-7f75420d9543",
        "colab": {
          "base_uri": "https://localhost:8080/"
        }
      },
      "source": [
        "# Solution goes here\n",
        "for word in line:\n",
        "    for letter in word:\n",
        "        print(letter)"
      ],
      "execution_count": 47,
      "outputs": [
        {
          "output_type": "stream",
          "text": [
            "W\n",
            "a\n",
            "r\n",
            "a\n",
            "n\n",
            "d\n",
            "P\n",
            "e\n",
            "a\n",
            "c\n",
            "e\n"
          ],
          "name": "stdout"
        }
      ]
    },
    {
      "cell_type": "markdown",
      "metadata": {
        "id": "osogy4iNOuga"
      },
      "source": [
        "## Capitalization\n",
        "\n",
        "When we count unique words, we probably want to treat `The` and `the` as the same word.  We can do that by converting all words to lower case, using the `lower` function:"
      ]
    },
    {
      "cell_type": "code",
      "metadata": {
        "id": "KZvy0DNrOugb",
        "outputId": "da6281ee-923a-476d-b74d-b694598404b5",
        "colab": {
          "base_uri": "https://localhost:8080/",
          "height": 35
        }
      },
      "source": [
        "word = 'The'\n",
        "word.lower()"
      ],
      "execution_count": 48,
      "outputs": [
        {
          "output_type": "execute_result",
          "data": {
            "application/vnd.google.colaboratory.intrinsic+json": {
              "type": "string"
            },
            "text/plain": [
              "'the'"
            ]
          },
          "metadata": {
            "tags": []
          },
          "execution_count": 48
        }
      ]
    },
    {
      "cell_type": "markdown",
      "metadata": {
        "id": "xt8k1eUKOugb"
      },
      "source": [
        "`lower` creates a new string; it does not modify the original string.  "
      ]
    },
    {
      "cell_type": "code",
      "metadata": {
        "id": "i1thdTs5Ougb",
        "outputId": "a05e2675-e027-4571-c8df-fa3241ce7d3a",
        "colab": {
          "base_uri": "https://localhost:8080/",
          "height": 35
        }
      },
      "source": [
        "word"
      ],
      "execution_count": 49,
      "outputs": [
        {
          "output_type": "execute_result",
          "data": {
            "application/vnd.google.colaboratory.intrinsic+json": {
              "type": "string"
            },
            "text/plain": [
              "'The'"
            ]
          },
          "metadata": {
            "tags": []
          },
          "execution_count": 49
        }
      ]
    },
    {
      "cell_type": "markdown",
      "metadata": {
        "id": "cpkbKVfhOugb"
      },
      "source": [
        "However, you can assign the new string back to the existing variable, like this:"
      ]
    },
    {
      "cell_type": "code",
      "metadata": {
        "id": "O1r87ce2Ougb"
      },
      "source": [
        "word = word.lower()"
      ],
      "execution_count": 50,
      "outputs": []
    },
    {
      "cell_type": "markdown",
      "metadata": {
        "id": "05_LtZfIOugc"
      },
      "source": [
        "Now if we can display the new value of `word`, we get the lowercase version:"
      ]
    },
    {
      "cell_type": "code",
      "metadata": {
        "id": "R4ckwoe0Ougc",
        "outputId": "03f01123-6b16-49af-b3a8-d6778765044d",
        "colab": {
          "base_uri": "https://localhost:8080/",
          "height": 35
        }
      },
      "source": [
        "word"
      ],
      "execution_count": 51,
      "outputs": [
        {
          "output_type": "execute_result",
          "data": {
            "application/vnd.google.colaboratory.intrinsic+json": {
              "type": "string"
            },
            "text/plain": [
              "'the'"
            ]
          },
          "metadata": {
            "tags": []
          },
          "execution_count": 51
        }
      ]
    },
    {
      "cell_type": "markdown",
      "metadata": {
        "id": "TPiwb8DrOugc"
      },
      "source": [
        "**Exercise:** Modify the previous loop so it makes a lowercase version of each word before adding it to the dictionary.  How many unique words are there, if we ignore the difference between uppercase and lowercase?"
      ]
    },
    {
      "cell_type": "code",
      "metadata": {
        "id": "FfUrSheuOugc"
      },
      "source": [
        "# Solution goes here\n"
      ],
      "execution_count": null,
      "outputs": []
    },
    {
      "cell_type": "code",
      "metadata": {
        "id": "BRMnH8HdtcBS",
        "outputId": "4d8590e9-1c8a-4ada-d69d-6f4313e21b55",
        "colab": {
          "base_uri": "https://localhost:8080/"
        }
      },
      "source": [
        "fp = open('2600-0.txt')\n",
        "unique_words = {}\n",
        "for line in fp:\n",
        "    for word in line.split():\n",
        "        unique_words[word.lower()] = 1\n",
        "\n",
        "len(unique_words)"
      ],
      "execution_count": 53,
      "outputs": [
        {
          "output_type": "execute_result",
          "data": {
            "text/plain": [
              "40131"
            ]
          },
          "metadata": {
            "tags": []
          },
          "execution_count": 53
        }
      ]
    },
    {
      "cell_type": "markdown",
      "metadata": {
        "id": "R1321A0BOugc"
      },
      "source": [
        "## Punctuation\n",
        "\n",
        "To remove punctuation from the words, we can use `strip`, which removes specified characters from the beginning and end of a string.  Here's an example:"
      ]
    },
    {
      "cell_type": "code",
      "metadata": {
        "id": "FEnDTWbjOugd",
        "outputId": "9f93f700-72d6-4f8e-8c6d-cc92328899c6",
        "colab": {
          "base_uri": "https://localhost:8080/",
          "height": 35
        }
      },
      "source": [
        "word = 'abracadabra'\n",
        "word.strip('ab')"
      ],
      "execution_count": 54,
      "outputs": [
        {
          "output_type": "execute_result",
          "data": {
            "application/vnd.google.colaboratory.intrinsic+json": {
              "type": "string"
            },
            "text/plain": [
              "'racadabr'"
            ]
          },
          "metadata": {
            "tags": []
          },
          "execution_count": 54
        }
      ]
    },
    {
      "cell_type": "markdown",
      "metadata": {
        "id": "Ngz2647hOugd"
      },
      "source": [
        "In this example, `strip` removes all instances of `a` and `b` from the beginning and end of the word, but not from the middle.\n",
        "But note that it makes a new word; it doesn't modify the original:"
      ]
    },
    {
      "cell_type": "code",
      "metadata": {
        "id": "aJsYfcAnOugd",
        "outputId": "b1f49916-a245-488f-a8d7-fedbea6515a2",
        "colab": {
          "base_uri": "https://localhost:8080/",
          "height": 35
        }
      },
      "source": [
        "word"
      ],
      "execution_count": 55,
      "outputs": [
        {
          "output_type": "execute_result",
          "data": {
            "application/vnd.google.colaboratory.intrinsic+json": {
              "type": "string"
            },
            "text/plain": [
              "'abracadabra'"
            ]
          },
          "metadata": {
            "tags": []
          },
          "execution_count": 55
        }
      ]
    },
    {
      "cell_type": "markdown",
      "metadata": {
        "id": "WiLC6SN3Ougd"
      },
      "source": [
        "To remove punctuation, we can use the `string` library, which provides a variable named `punctuation`."
      ]
    },
    {
      "cell_type": "code",
      "metadata": {
        "id": "V20TAFbyOugd",
        "outputId": "29e3f852-3427-4917-b542-9c5e9f14341f",
        "colab": {
          "base_uri": "https://localhost:8080/",
          "height": 35
        }
      },
      "source": [
        "import string\n",
        "\n",
        "string.punctuation"
      ],
      "execution_count": 56,
      "outputs": [
        {
          "output_type": "execute_result",
          "data": {
            "application/vnd.google.colaboratory.intrinsic+json": {
              "type": "string"
            },
            "text/plain": [
              "'!\"#$%&\\'()*+,-./:;<=>?@[\\\\]^_`{|}~'"
            ]
          },
          "metadata": {
            "tags": []
          },
          "execution_count": 56
        }
      ]
    },
    {
      "cell_type": "markdown",
      "metadata": {
        "id": "HVQPRay-Ouge"
      },
      "source": [
        "`string.punctuation` contains the most common punctuation marks, but as we'll see, not all of them.\n",
        "Nevertheless, we can use it to handle most cases.  Here's an example:"
      ]
    },
    {
      "cell_type": "code",
      "metadata": {
        "id": "K9zuPN13Ouge",
        "outputId": "4081a26b-2814-473d-f976-064f178f4e95",
        "colab": {
          "base_uri": "https://localhost:8080/"
        }
      },
      "source": [
        "line = \"It's not given to people to judge what's right or wrong.\"\n",
        "\n",
        "for word in line.split():\n",
        "    word = word.strip(string.punctuation)\n",
        "    print(word)"
      ],
      "execution_count": 57,
      "outputs": [
        {
          "output_type": "stream",
          "text": [
            "It's\n",
            "not\n",
            "given\n",
            "to\n",
            "people\n",
            "to\n",
            "judge\n",
            "what's\n",
            "right\n",
            "or\n",
            "wrong\n"
          ],
          "name": "stdout"
        }
      ]
    },
    {
      "cell_type": "markdown",
      "metadata": {
        "id": "dxb01YnCOuge"
      },
      "source": [
        "`strip` removes the period at the end of `wrong`, but not the apostrophes in `It's`, `don't` and `what's`.\n",
        "So that's good, but we have one more problem to solve.\n",
        "Here's another line from the book."
      ]
    },
    {
      "cell_type": "code",
      "metadata": {
        "id": "rSCSFU6gOugf"
      },
      "source": [
        "line = 'anyone, and so you don’t deserve to have them.”'"
      ],
      "execution_count": 58,
      "outputs": []
    },
    {
      "cell_type": "markdown",
      "metadata": {
        "id": "Yh106AaSOugf"
      },
      "source": [
        "Here's what happens when we try to remove the punctuation."
      ]
    },
    {
      "cell_type": "code",
      "metadata": {
        "id": "CidN6rWNOugf",
        "outputId": "19b364c3-b161-4670-e06d-03e72a22948a",
        "colab": {
          "base_uri": "https://localhost:8080/"
        }
      },
      "source": [
        "for word in line.split():\n",
        "    word = word.strip(string.punctuation)\n",
        "    print(word)"
      ],
      "execution_count": 59,
      "outputs": [
        {
          "output_type": "stream",
          "text": [
            "anyone\n",
            "and\n",
            "so\n",
            "you\n",
            "don’t\n",
            "deserve\n",
            "to\n",
            "have\n",
            "them.”\n"
          ],
          "name": "stdout"
        }
      ]
    },
    {
      "cell_type": "markdown",
      "metadata": {
        "id": "KKORzFmFOugf"
      },
      "source": [
        "It removes the comma after `anyone`, but not the period and quotation mark after `them`.\n",
        "The problem is that this kind of quotation mark is not in `string.punctuation`.  \n",
        "\n",
        "To fix this problem, we'll use the following loop, which\n",
        "\n",
        "1. Reads the file and builds a dictionary that contains all punctuation marks that appear in the book, then\n",
        "\n",
        "2. It uses the `join` function to concatenate the keys of the dictionary in a single string.\n",
        "\n",
        "You don't have to understand everything about how it works, but you should read it and see how much you can figure out.  You can read the documentation of the `unicodedata` library here at <https://docs.python.org/3/library/unicodedata.html>."
      ]
    },
    {
      "cell_type": "code",
      "metadata": {
        "id": "qDqWFGCGOugg",
        "outputId": "cf9f5497-5068-4408-b2bf-6253ac4aec6c",
        "colab": {
          "base_uri": "https://localhost:8080/"
        }
      },
      "source": [
        "import unicodedata\n",
        "\n",
        "fp = open('2600-0.txt')\n",
        "punc_marks = {}\n",
        "for line in fp:\n",
        "    for x in line:\n",
        "        category = unicodedata.category(x)\n",
        "        if category[0] == 'P':\n",
        "            punc_marks[x] = 1\n",
        "        \n",
        "all_punctuation = ''.join(punc_marks)\n",
        "print(all_punctuation)"
      ],
      "execution_count": 60,
      "outputs": [
        {
          "output_type": "stream",
          "text": [
            ",.-:[#]*/“’—‘!?”;()%@\n"
          ],
          "name": "stdout"
        }
      ]
    },
    {
      "cell_type": "markdown",
      "metadata": {
        "id": "ssFzfaV_Ougg"
      },
      "source": [
        "**Exercise:** Modify the word-counting loop from the previous section to convert words to lower case *and* strip punctuation before adding them to the dictionary.  Now how many unique words are there?\n",
        "\n",
        "Optional: You might want to skip over the front matter and start with the text of Chapter 1, and skip over the license at the end, as we did in the previous chapter."
      ]
    },
    {
      "cell_type": "code",
      "metadata": {
        "id": "nKjsstKZOugg"
      },
      "source": [
        "# Solution goes here\n"
      ],
      "execution_count": null,
      "outputs": []
    },
    {
      "cell_type": "code",
      "metadata": {
        "colab": {
          "base_uri": "https://localhost:8080/"
        },
        "id": "uo6Ltwt4vS-S",
        "outputId": "fe517e07-d642-4bba-ce56-d008665f4266"
      },
      "source": [
        "fp = open('2600-0.txt')\n",
        "unique_words = {}\n",
        "for line in fp:\n",
        "    for word in line.split():\n",
        "        word = word.strip(all_punctuation).lower()\n",
        "        unique_words[word] = 1\n",
        "\n",
        "\n",
        "len(unique_words)"
      ],
      "execution_count": 62,
      "outputs": [
        {
          "output_type": "execute_result",
          "data": {
            "text/plain": [
              "20693"
            ]
          },
          "metadata": {
            "tags": []
          },
          "execution_count": 62
        }
      ]
    },
    {
      "cell_type": "markdown",
      "metadata": {
        "id": "Xm2UF8AROugg"
      },
      "source": [
        "## Word frequencies\n",
        "\n",
        "In the previous section we counted the number of unique words, but we might also want to know how often each word appears.  Then we can find the most common and least common words in the book.\n",
        "To count the frequency of each word, we'll make a dictionary that maps from each word to the number of times it appears.\n",
        "\n",
        "Here's an example that loops through a string and counts the number of times each letter appears."
      ]
    },
    {
      "cell_type": "code",
      "metadata": {
        "id": "sowCEJjnOugg",
        "outputId": "d28f9ade-bb1c-4f51-fc92-9292ed6d8960",
        "colab": {
          "base_uri": "https://localhost:8080/"
        }
      },
      "source": [
        "word = 'Mississippi'\n",
        "\n",
        "letter_counts = {}\n",
        "for x in word:\n",
        "    if x in letter_counts:\n",
        "        letter_counts[x] += 1\n",
        "    else:\n",
        "        letter_counts[x] = 1\n",
        "        \n",
        "letter_counts"
      ],
      "execution_count": 63,
      "outputs": [
        {
          "output_type": "execute_result",
          "data": {
            "text/plain": [
              "{'M': 1, 'i': 4, 'p': 2, 's': 4}"
            ]
          },
          "metadata": {
            "tags": []
          },
          "execution_count": 63
        }
      ]
    },
    {
      "cell_type": "markdown",
      "metadata": {
        "id": "uNzAALMgOugh"
      },
      "source": [
        "The `if` statement here uses a feature we have not seen before, an `else` clause.\n",
        "Here's how it works.\n",
        "\n",
        "1. First, it checks whether the letter, `x`, is already a key in the dictionary, `letter_counts`.\n",
        "\n",
        "2. If so, it runs the first statement, `letter_counts[x] += 1`, which increments the value associated with the letter.\n",
        "\n",
        "3. Otherwise, it runs the second statement, `letter_counts[x] = 1`, which adds `x` as a new key, with the value `1` indicating that we have seen the new letter once.\n",
        "\n",
        "The result is a dictionary that maps from each letter to the number of times it appears.\n",
        "\n",
        "To get the most common letters, we can use a `Counter`, which is similar to a dictionary.  To use it, we have to import a library called `collections`: "
      ]
    },
    {
      "cell_type": "code",
      "metadata": {
        "id": "ou98CQcoOugh"
      },
      "source": [
        "import collections"
      ],
      "execution_count": 64,
      "outputs": []
    },
    {
      "cell_type": "markdown",
      "metadata": {
        "id": "b3iPey-LOugh"
      },
      "source": [
        "Then we use `collections.Counter` to convert the dictionary to a `Counter`:"
      ]
    },
    {
      "cell_type": "code",
      "metadata": {
        "id": "z7OwmIvDOugh",
        "outputId": "5a541e5f-8052-4392-9c59-255666959211",
        "colab": {
          "base_uri": "https://localhost:8080/"
        }
      },
      "source": [
        "counter = collections.Counter(letter_counts)\n",
        "type(counter), collections.Counter('Mississippi'), counter"
      ],
      "execution_count": 68,
      "outputs": [
        {
          "output_type": "execute_result",
          "data": {
            "text/plain": [
              "(collections.Counter,\n",
              " Counter({'M': 1, 'i': 4, 'p': 2, 's': 4}),\n",
              " Counter({'M': 1, 'i': 4, 'p': 2, 's': 4}))"
            ]
          },
          "metadata": {
            "tags": []
          },
          "execution_count": 68
        }
      ]
    },
    {
      "cell_type": "markdown",
      "metadata": {
        "id": "VlM1wzwWOugh"
      },
      "source": [
        "`Counter` provides a function called `most_common` we can use to get the most common characters:"
      ]
    },
    {
      "cell_type": "code",
      "metadata": {
        "id": "1BX59NMkOugi",
        "outputId": "43a20b72-64b1-4e8c-9845-f8faa9ad55c8",
        "colab": {
          "base_uri": "https://localhost:8080/"
        }
      },
      "source": [
        "counter.most_common(3)"
      ],
      "execution_count": 69,
      "outputs": [
        {
          "output_type": "execute_result",
          "data": {
            "text/plain": [
              "[('i', 4), ('s', 4), ('p', 2)]"
            ]
          },
          "metadata": {
            "tags": []
          },
          "execution_count": 69
        }
      ]
    },
    {
      "cell_type": "markdown",
      "metadata": {
        "id": "ORJdfvBvOugi"
      },
      "source": [
        "The result is a list of tuples, where each tuple contains a character and an integer."
      ]
    },
    {
      "cell_type": "markdown",
      "metadata": {
        "id": "PsRY2RYcOugi"
      },
      "source": [
        "**Exercise:** Modify the loop from the previous exercise to count the frequency of the words in *War and Peace*; then print the 20 most common words and the number of times each one appears."
      ]
    },
    {
      "cell_type": "code",
      "metadata": {
        "id": "ylIcRmtLOugi"
      },
      "source": [
        "# Solution goes here\n"
      ],
      "execution_count": null,
      "outputs": []
    },
    {
      "cell_type": "code",
      "metadata": {
        "colab": {
          "base_uri": "https://localhost:8080/"
        },
        "id": "MWz0fg7SxNfT",
        "outputId": "d72dd48c-1e22-49a7-d4e3-a3126d0d0be4"
      },
      "source": [
        "fp = open('2600-0.txt')\n",
        "freq_words = {}\n",
        "for line in fp:\n",
        "    for word in line.split():\n",
        "        word = word.strip(all_punctuation).lower()\n",
        "        freq_words[word] = freq_words.get(word, 0) + 1\n",
        "        \n",
        "\n",
        "\n",
        "word_freq = collections.Counter(freq_words)\n",
        "word_freq.most_common(20)"
      ],
      "execution_count": 72,
      "outputs": [
        {
          "output_type": "execute_result",
          "data": {
            "text/plain": [
              "[('the', 34563),\n",
              " ('and', 22151),\n",
              " ('to', 16711),\n",
              " ('of', 14991),\n",
              " ('a', 10493),\n",
              " ('he', 9811),\n",
              " ('in', 8927),\n",
              " ('his', 7965),\n",
              " ('that', 7806),\n",
              " ('was', 7331),\n",
              " ('with', 5694),\n",
              " ('had', 5354),\n",
              " ('it', 5179),\n",
              " ('her', 4697),\n",
              " ('not', 4658),\n",
              " ('him', 4571),\n",
              " ('at', 4535),\n",
              " ('i', 4106),\n",
              " ('but', 4012),\n",
              " ('on', 3996)]"
            ]
          },
          "metadata": {
            "tags": []
          },
          "execution_count": 72
        }
      ]
    },
    {
      "cell_type": "markdown",
      "metadata": {
        "id": "NeW1ftquOugi"
      },
      "source": [
        "**Exercise:** You can run `most_common` with no value in parentheses, like this:\n",
        "\n",
        "```\n",
        "word_freq_pairs = counter.most_common()\n",
        "```\n",
        "\n",
        "The result is a list of tuples, with one tuple for every unique word in the book.  Assign the result to a variable so it doesn't get displayed.  Then answer the following questions:\n",
        "\n",
        "1. How many times does the #1 ranked word appear (that is, the first element of the list)?\n",
        "\n",
        "2. How many times does the #10 ranked word appear?\n",
        "\n",
        "3. How many times does the #100 ranked word appear?\n",
        "\n",
        "4. How many times does the #1000 ranked word appear?\n",
        "\n",
        "5. How many times does the #10000 ranked word appear?\n",
        "\n",
        "Do you see a pattern in the results?  We will explore this pattern more in the next chapter."
      ]
    },
    {
      "cell_type": "code",
      "metadata": {
        "id": "bUi10DzAOugj",
        "outputId": "ca6d0faa-136a-4ef9-83eb-9e3d94d4a546",
        "colab": {
          "base_uri": "https://localhost:8080/"
        }
      },
      "source": [
        "# Solution goes here\n",
        "word_freq.most_common(1)"
      ],
      "execution_count": 73,
      "outputs": [
        {
          "output_type": "execute_result",
          "data": {
            "text/plain": [
              "[('the', 34563)]"
            ]
          },
          "metadata": {
            "tags": []
          },
          "execution_count": 73
        }
      ]
    },
    {
      "cell_type": "code",
      "metadata": {
        "id": "GXK1DxO9Ougj",
        "outputId": "87c2de3d-5601-44bb-93d7-ea52836a3dba",
        "colab": {
          "base_uri": "https://localhost:8080/"
        }
      },
      "source": [
        "# Solution goes here\n",
        "word_freq.most_common(10)\n",
        "\n",
        "t = [c[1] for c in word_freq.most_common(10)]\n",
        "sum(cnt for key, cnt in word_freq.most_common(10)), sum(t)"
      ],
      "execution_count": 76,
      "outputs": [
        {
          "output_type": "execute_result",
          "data": {
            "text/plain": [
              "(140749, 140749)"
            ]
          },
          "metadata": {
            "tags": []
          },
          "execution_count": 76
        }
      ]
    },
    {
      "cell_type": "code",
      "metadata": {
        "id": "hj0170uIOugj",
        "outputId": "03dad073-61ac-4962-aa06-d661a9e0c12b",
        "colab": {
          "base_uri": "https://localhost:8080/"
        }
      },
      "source": [
        "# Solution goes here\n",
        "sum(elem[1] for elem in word_freq.most_common(100))"
      ],
      "execution_count": 77,
      "outputs": [
        {
          "output_type": "execute_result",
          "data": {
            "text/plain": [
              "301765"
            ]
          },
          "metadata": {
            "tags": []
          },
          "execution_count": 77
        }
      ]
    },
    {
      "cell_type": "code",
      "metadata": {
        "id": "sCgur5jmOugj",
        "outputId": "98cb934b-45f6-4e47-b82a-8f69f6f451ff",
        "colab": {
          "base_uri": "https://localhost:8080/"
        }
      },
      "source": [
        "# Solution goes here\n",
        "sum(elem[1] for elem in word_freq.most_common(1000))"
      ],
      "execution_count": 78,
      "outputs": [
        {
          "output_type": "execute_result",
          "data": {
            "text/plain": [
              "453658"
            ]
          },
          "metadata": {
            "tags": []
          },
          "execution_count": 78
        }
      ]
    },
    {
      "cell_type": "code",
      "metadata": {
        "id": "3zhWbuI5Ougj",
        "outputId": "161d04d7-7ce9-4914-e699-df035c18b89b",
        "colab": {
          "base_uri": "https://localhost:8080/"
        }
      },
      "source": [
        "# Solution goes here\n",
        "sum(elem[1] for elem in word_freq.most_common(10000))"
      ],
      "execution_count": 79,
      "outputs": [
        {
          "output_type": "execute_result",
          "data": {
            "text/plain": [
              "553458"
            ]
          },
          "metadata": {
            "tags": []
          },
          "execution_count": 79
        }
      ]
    },
    {
      "cell_type": "markdown",
      "metadata": {
        "id": "9oRhTHeKOugk"
      },
      "source": [
        "**Exercise:** Write a loop that counts how many words appear 200 times.  What are they?  How many words appear 100 times, 50 times, and 20 times?\n",
        "\n",
        "**Optional:** If you know how to define a function, write a function that takes a `Counter` and a frequency as arguments, prints all words with that frequency, and returns the number of words with that frequency."
      ]
    },
    {
      "cell_type": "code",
      "metadata": {
        "colab": {
          "base_uri": "https://localhost:8080/"
        },
        "id": "xVl3RlZWOugk",
        "outputId": "0fd8ab3a-2828-4efc-8602-4c8ee2810770"
      },
      "source": [
        "# Solution goes here\n",
        "cnt_200 = 0\n",
        "for word, cnt in word_freq.items():\n",
        "    if cnt == 200:\n",
        "        print(word, cnt)\n",
        "        cnt_200 += 1\n",
        "\n",
        "cnt_200"
      ],
      "execution_count": 86,
      "outputs": [
        {
          "output_type": "stream",
          "text": [
            "orders 200\n"
          ],
          "name": "stdout"
        },
        {
          "output_type": "execute_result",
          "data": {
            "text/plain": [
              "1"
            ]
          },
          "metadata": {
            "tags": []
          },
          "execution_count": 86
        }
      ]
    },
    {
      "cell_type": "code",
      "metadata": {
        "id": "COelOryVOugk"
      },
      "source": [
        "# Solution goes here\n"
      ],
      "execution_count": null,
      "outputs": []
    },
    {
      "cell_type": "code",
      "metadata": {
        "colab": {
          "base_uri": "https://localhost:8080/"
        },
        "id": "ndUZEfM80kLK",
        "outputId": "fb622e1d-e278-4e17-f168-0de922c8f847"
      },
      "source": [
        "# Solution goes here\n",
        "cnt_100 = 0\n",
        "for word, cnt in word_freq.items():\n",
        "    if cnt == 100:\n",
        "        print(word, cnt)\n",
        "        cnt_100 += 1\n",
        "\n",
        "cnt_100"
      ],
      "execution_count": 87,
      "outputs": [
        {
          "output_type": "stream",
          "text": [
            "project 100\n",
            "decided 100\n",
            "child 100\n",
            "country 100\n",
            "however 100\n",
            "run 100\n",
            "aim 100\n",
            "ought 100\n",
            "captain 100\n",
            "guns 100\n"
          ],
          "name": "stdout"
        },
        {
          "output_type": "execute_result",
          "data": {
            "text/plain": [
              "10"
            ]
          },
          "metadata": {
            "tags": []
          },
          "execution_count": 87
        }
      ]
    },
    {
      "cell_type": "code",
      "metadata": {
        "id": "XOPHwANPOugk"
      },
      "source": [
        "# Solution goes here\n"
      ],
      "execution_count": null,
      "outputs": []
    },
    {
      "cell_type": "code",
      "metadata": {
        "colab": {
          "base_uri": "https://localhost:8080/"
        },
        "id": "ONlwmlE10r0N",
        "outputId": "fba23df8-5023-4d95-9219-28b77e0a1bb5"
      },
      "source": [
        "# Solution goes here\n",
        "cnt_50 = 0\n",
        "for word, cnt in word_freq.items():\n",
        "    if cnt == 50:\n",
        "        print(word, cnt)\n",
        "        cnt_50 += 1\n",
        "\n",
        "cnt_50"
      ],
      "execution_count": 88,
      "outputs": [
        {
          "output_type": "stream",
          "text": [
            "king 50\n",
            "mentioned 50\n",
            "gesture 50\n",
            "relation 50\n",
            "nose 50\n",
            "wine 50\n",
            "shouts 50\n",
            "loud 50\n",
            "common 50\n",
            "interests 50\n",
            "purpose 50\n",
            "journey 50\n",
            "darkness 50\n",
            "division 50\n",
            "burned 50\n",
            "austerlitz 50\n"
          ],
          "name": "stdout"
        },
        {
          "output_type": "execute_result",
          "data": {
            "text/plain": [
              "16"
            ]
          },
          "metadata": {
            "tags": []
          },
          "execution_count": 88
        }
      ]
    },
    {
      "cell_type": "code",
      "metadata": {
        "id": "l5Tbs4yDOugk"
      },
      "source": [
        "# Solution goes here\n"
      ],
      "execution_count": null,
      "outputs": []
    },
    {
      "cell_type": "code",
      "metadata": {
        "colab": {
          "base_uri": "https://localhost:8080/"
        },
        "id": "BbuXv9vC0zJd",
        "outputId": "0b7404e7-d52a-4b77-cb46-fdd19f3fa350"
      },
      "source": [
        "# Solution goes here\n",
        "cnt_20 = 0\n",
        "for word, cnt in word_freq.items():\n",
        "    if cnt == 20:\n",
        "        print(word, cnt)\n",
        "        cnt_20 += 1\n",
        "\n",
        "cnt_20"
      ],
      "execution_count": 89,
      "outputs": [
        {
          "output_type": "stream",
          "text": [
            "alexander’s 20\n",
            "education 20\n",
            "revealed 20\n",
            "samovar 20\n",
            "altered 20\n",
            "merrily 20\n",
            "george 20\n",
            "powerful 20\n",
            "affectionate 20\n",
            "sons 20\n",
            "drop 20\n",
            "reward 20\n",
            "fled 20\n",
            "signs 20\n",
            "shawl 20\n",
            "gently 20\n",
            "woman’s 20\n",
            "husband’s 20\n",
            "gossip 20\n",
            "qualities 20\n",
            "glasses 20\n",
            "respected 20\n",
            "seize 20\n",
            "he’ll 20\n",
            "forgot 20\n",
            "conversations 20\n",
            "ivánovna 20\n",
            "failed 20\n",
            "pávlograd 20\n",
            "vanished 20\n",
            "examined 20\n",
            "pair 20\n",
            "upset 20\n",
            "coldly 20\n",
            "inquiry 20\n",
            "support 20\n",
            "exchanged 20\n",
            "nowhere 20\n",
            "band 20\n",
            "thrust 20\n",
            "resolution 20\n",
            "request 20\n",
            "pose 20\n",
            "maneuvers 20\n",
            "pieces 20\n",
            "risen 20\n",
            "pillow 20\n",
            "problem 20\n",
            "pure 20\n",
            "eternal 20\n",
            "sleeping 20\n",
            "attacking 20\n",
            "european 20\n",
            "tranquil 20\n",
            "coach 20\n",
            "smart 20\n",
            "win 20\n",
            "aid 20\n",
            "encounter 20\n",
            "dragging 20\n",
            "ear 20\n",
            "scoundrel 20\n",
            "confirmed 20\n",
            "heights 20\n",
            "roar 20\n",
            "yards 20\n",
            "inevitably 20\n",
            "losses 20\n",
            "transport 20\n",
            "theater 20\n",
            "enemies 20\n",
            "mild 20\n",
            "bodies 20\n",
            "arrangements 20\n",
            "proclamation 20\n",
            "cries 20\n",
            "militiamen 20\n",
            "nephew 20\n",
            "drops 20\n",
            "niemen 20\n",
            "numbers 20\n",
            "balagá 20\n",
            "hive 20\n",
            "michaud 20\n",
            "vyázma 20\n",
            "flèches 20\n"
          ],
          "name": "stdout"
        },
        {
          "output_type": "execute_result",
          "data": {
            "text/plain": [
              "86"
            ]
          },
          "metadata": {
            "tags": []
          },
          "execution_count": 89
        }
      ]
    },
    {
      "cell_type": "code",
      "metadata": {
        "id": "Dhr_1hAZOugl"
      },
      "source": [
        "# Solution goes here"
      ],
      "execution_count": null,
      "outputs": []
    },
    {
      "cell_type": "code",
      "metadata": {
        "id": "-2YEnDvlOugl"
      },
      "source": [
        ""
      ],
      "execution_count": null,
      "outputs": []
    }
  ]
}