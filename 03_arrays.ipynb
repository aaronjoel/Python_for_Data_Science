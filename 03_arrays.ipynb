{
  "nbformat": 4,
  "nbformat_minor": 0,
  "metadata": {
    "celltoolbar": "Tags",
    "kernelspec": {
      "display_name": "Python 3",
      "language": "python",
      "name": "python3"
    },
    "language_info": {
      "codemirror_mode": {
        "name": "ipython",
        "version": 3
      },
      "file_extension": ".py",
      "mimetype": "text/x-python",
      "name": "python",
      "nbconvert_exporter": "python",
      "pygments_lexer": "ipython3",
      "version": "3.7.7"
    },
    "colab": {
      "name": "03_arrays.ipynb",
      "provenance": []
    }
  },
  "cells": [
    {
      "cell_type": "markdown",
      "metadata": {
        "id": "67hJzOVnPka-"
      },
      "source": [
        "# Lists and arrays"
      ]
    },
    {
      "cell_type": "markdown",
      "metadata": {
        "tags": [],
        "id": "0M91PNk9PkbA"
      },
      "source": [
        "*Elements of Data Science*\n",
        "\n",
        "Copyright 2021 [Allen B. Downey](https://allendowney.com)\n",
        "\n",
        "License: [Creative Commons Attribution-NonCommercial-ShareAlike 4.0 International](https://creativecommons.org/licenses/by-nc-sa/4.0/)"
      ]
    },
    {
      "cell_type": "markdown",
      "metadata": {
        "tags": [],
        "id": "pYl0upopPkbB"
      },
      "source": [
        "[Click here to run this notebook on Colab](https://colab.research.google.com/github/AllenDowney/ElementsOfDataScience/blob/master/03_arrays.ipynb) or\n",
        "[click here to download it](https://github.com/AllenDowney/ElementsOfDataScience/raw/master/03_arrays.ipynb)."
      ]
    },
    {
      "cell_type": "markdown",
      "metadata": {
        "id": "MgDRZxRtPkbB"
      },
      "source": [
        "In the previous chapter we used tuples to represent latitude and longitude.  In this chapter, you'll see how to use tuples more generally to represent a sequence of values.  And we'll see two more ways to represent sequences: lists and arrays.\n",
        "\n",
        "You might wonder why we need three ways to represent the same thing.  Most of the time you don't, but each of them has different capabilities.  For work with data, we will use arrays most of the time.\n",
        "\n",
        "As an example, we will use a small dataset from an article in *The Economist* about the price of sandwiches.  It's a silly example, but I'll use it to introduce the idea of relative differences and different ways to summarize them."
      ]
    },
    {
      "cell_type": "markdown",
      "metadata": {
        "id": "9Kh3HdihPkbC"
      },
      "source": [
        "## Tuples\n",
        "\n",
        "A tuple is a sequence of elements.  When we use a tuple to represent latitude and longitude, the sequence only contains two elements, and they are both floating-point numbers.\n",
        "But in general a tuple can contain any number of elements, and the elements can be values of any type.\n",
        "The following is a tuple of three integers:"
      ]
    },
    {
      "cell_type": "code",
      "metadata": {
        "id": "_PJZaH5vPkbC",
        "outputId": "5942877b-9443-4530-83a4-a2bc29334b25",
        "colab": {
          "base_uri": "https://localhost:8080/"
        }
      },
      "source": [
        "1, 2, 3"
      ],
      "execution_count": 6,
      "outputs": [
        {
          "output_type": "execute_result",
          "data": {
            "text/plain": [
              "(1, 2, 3)"
            ]
          },
          "metadata": {
            "tags": []
          },
          "execution_count": 6
        }
      ]
    },
    {
      "cell_type": "markdown",
      "metadata": {
        "id": "JpErqi5JPkbD"
      },
      "source": [
        "Notice that when Python displays a tuple, it puts the elements in parentheses.\n",
        "When you type a tuple, you can put it in parentheses if you think it is easier to read that way, but you don't have to."
      ]
    },
    {
      "cell_type": "code",
      "metadata": {
        "tags": [],
        "id": "_EMns-toPkbD",
        "outputId": "6952773c-4f79-4b4f-85c0-c77bc7d95748",
        "colab": {
          "base_uri": "https://localhost:8080/"
        }
      },
      "source": [
        "(1, 2, 3)"
      ],
      "execution_count": 7,
      "outputs": [
        {
          "output_type": "execute_result",
          "data": {
            "text/plain": [
              "(1, 2, 3)"
            ]
          },
          "metadata": {
            "tags": []
          },
          "execution_count": 7
        }
      ]
    },
    {
      "cell_type": "markdown",
      "metadata": {
        "id": "_YcjXLgAPkbD"
      },
      "source": [
        "The elements can be any type.  Here's a tuple of strings:"
      ]
    },
    {
      "cell_type": "code",
      "metadata": {
        "id": "he3sRbAHPkbE",
        "outputId": "256291e1-f7a8-44de-f198-bfd7aea27d70",
        "colab": {
          "base_uri": "https://localhost:8080/"
        }
      },
      "source": [
        "'Data', 'Science'"
      ],
      "execution_count": 8,
      "outputs": [
        {
          "output_type": "execute_result",
          "data": {
            "text/plain": [
              "('Data', 'Science')"
            ]
          },
          "metadata": {
            "tags": []
          },
          "execution_count": 8
        }
      ]
    },
    {
      "cell_type": "markdown",
      "metadata": {
        "id": "RXewpzmoPkbE"
      },
      "source": [
        "The elements don't have to be the same type.  Here's a tuple with a string, an integer, and a floating-point number."
      ]
    },
    {
      "cell_type": "code",
      "metadata": {
        "id": "kELhZuqSPkbE",
        "outputId": "e79008a7-fcf0-451b-e9e5-4f3f9768546b",
        "colab": {
          "base_uri": "https://localhost:8080/"
        }
      },
      "source": [
        "'one', 2, 3.14159 "
      ],
      "execution_count": 9,
      "outputs": [
        {
          "output_type": "execute_result",
          "data": {
            "text/plain": [
              "('one', 2, 3.14159)"
            ]
          },
          "metadata": {
            "tags": []
          },
          "execution_count": 9
        }
      ]
    },
    {
      "cell_type": "markdown",
      "metadata": {
        "id": "VwlJ95RSPkbF"
      },
      "source": [
        "If you have a string, you can convert it to a tuple using the `tuple` function:"
      ]
    },
    {
      "cell_type": "code",
      "metadata": {
        "id": "37RnAS3BPkbF",
        "outputId": "d624a12b-25cc-486b-99b2-8896477b82f5",
        "colab": {
          "base_uri": "https://localhost:8080/"
        }
      },
      "source": [
        "tuple('DataScience')"
      ],
      "execution_count": 10,
      "outputs": [
        {
          "output_type": "execute_result",
          "data": {
            "text/plain": [
              "('D', 'a', 't', 'a', 'S', 'c', 'i', 'e', 'n', 'c', 'e')"
            ]
          },
          "metadata": {
            "tags": []
          },
          "execution_count": 10
        }
      ]
    },
    {
      "cell_type": "markdown",
      "metadata": {
        "id": "uOr0OoEEPkbF"
      },
      "source": [
        "The result is a tuple of single-character strings.\n",
        "\n",
        "When you create a tuple, the parentheses are optional, but the commas are required.  So how do you think you create a tuple with a single element?  You might be tempted to write:"
      ]
    },
    {
      "cell_type": "code",
      "metadata": {
        "id": "1k1v1RBbPkbF",
        "outputId": "985153d8-7547-4a96-fb9b-c240c1683abb",
        "colab": {
          "base_uri": "https://localhost:8080/"
        }
      },
      "source": [
        "x = (5)\n",
        "x"
      ],
      "execution_count": 11,
      "outputs": [
        {
          "output_type": "execute_result",
          "data": {
            "text/plain": [
              "5"
            ]
          },
          "metadata": {
            "tags": []
          },
          "execution_count": 11
        }
      ]
    },
    {
      "cell_type": "code",
      "metadata": {
        "tags": [],
        "id": "S9DhzFMwPkbG",
        "outputId": "faa01db5-6375-4fda-dc46-5459ed0956df",
        "colab": {
          "base_uri": "https://localhost:8080/"
        }
      },
      "source": [
        "type(x)"
      ],
      "execution_count": 12,
      "outputs": [
        {
          "output_type": "execute_result",
          "data": {
            "text/plain": [
              "int"
            ]
          },
          "metadata": {
            "tags": []
          },
          "execution_count": 12
        }
      ]
    },
    {
      "cell_type": "markdown",
      "metadata": {
        "id": "WAzVMoAuPkbG"
      },
      "source": [
        "But you will find that the result is just a number, not a tuple.\n",
        "To make a tuple with a single element, you need a comma:"
      ]
    },
    {
      "cell_type": "code",
      "metadata": {
        "id": "1QsvCwJ5PkbG",
        "outputId": "926a94ca-76f6-4b97-c386-d877a53cf051",
        "colab": {
          "base_uri": "https://localhost:8080/"
        }
      },
      "source": [
        "t = 5,\n",
        "t"
      ],
      "execution_count": 13,
      "outputs": [
        {
          "output_type": "execute_result",
          "data": {
            "text/plain": [
              "(5,)"
            ]
          },
          "metadata": {
            "tags": []
          },
          "execution_count": 13
        }
      ]
    },
    {
      "cell_type": "markdown",
      "metadata": {
        "id": "zarNgctLPkbG"
      },
      "source": [
        "That might look funny, but it does the job."
      ]
    },
    {
      "cell_type": "code",
      "metadata": {
        "tags": [],
        "id": "PzWf7GY1PkbG",
        "outputId": "b7c8e515-fa81-40cc-ef66-4e5b854fc08b",
        "colab": {
          "base_uri": "https://localhost:8080/"
        }
      },
      "source": [
        "type(t)"
      ],
      "execution_count": 14,
      "outputs": [
        {
          "output_type": "execute_result",
          "data": {
            "text/plain": [
              "tuple"
            ]
          },
          "metadata": {
            "tags": []
          },
          "execution_count": 14
        }
      ]
    },
    {
      "cell_type": "markdown",
      "metadata": {
        "id": "VplnM89wPkbH"
      },
      "source": [
        "## Lists\n",
        "\n",
        "Python provides another way to store a sequence of elements: a list.\n",
        "\n",
        "To create a list, you put a sequence of elements in square brackets."
      ]
    },
    {
      "cell_type": "code",
      "metadata": {
        "id": "9DUg_KCpPkbH",
        "outputId": "2e4ea08e-58ba-4dd3-f3ee-0d98ee593165",
        "colab": {
          "base_uri": "https://localhost:8080/"
        }
      },
      "source": [
        "[1, 2, 3]"
      ],
      "execution_count": 15,
      "outputs": [
        {
          "output_type": "execute_result",
          "data": {
            "text/plain": [
              "[1, 2, 3]"
            ]
          },
          "metadata": {
            "tags": []
          },
          "execution_count": 15
        }
      ]
    },
    {
      "cell_type": "markdown",
      "metadata": {
        "id": "XAW5Ysn3PkbH"
      },
      "source": [
        "Lists and tuples are very similar.\n",
        "They can contain any number of elements, the elements can be any type, and the elements don't have to be the same type.\n",
        "The difference is that you can modify a list; tuples are immutable (cannot be modified).  This difference will matter later, but for now we can ignore it.\n",
        "\n",
        "When you make a list, the brackets are required, but if there is a single element, you don't need a comma.  So you can make a list like this:"
      ]
    },
    {
      "cell_type": "code",
      "metadata": {
        "id": "vhwecKJBPkbI"
      },
      "source": [
        "single = [5]"
      ],
      "execution_count": 16,
      "outputs": []
    },
    {
      "cell_type": "code",
      "metadata": {
        "tags": [],
        "id": "qzgkDxMaPkbI",
        "outputId": "c731ac1f-cbbe-4dbe-f296-e099a50d943a",
        "colab": {
          "base_uri": "https://localhost:8080/"
        }
      },
      "source": [
        "type(single)"
      ],
      "execution_count": 17,
      "outputs": [
        {
          "output_type": "execute_result",
          "data": {
            "text/plain": [
              "list"
            ]
          },
          "metadata": {
            "tags": []
          },
          "execution_count": 17
        }
      ]
    },
    {
      "cell_type": "markdown",
      "metadata": {
        "id": "KRsUfKL5PkbI"
      },
      "source": [
        "It is also possible to make a list with no elements, like this:"
      ]
    },
    {
      "cell_type": "code",
      "metadata": {
        "id": "oB_R9Q0aPkbI"
      },
      "source": [
        "empty = []"
      ],
      "execution_count": 18,
      "outputs": []
    },
    {
      "cell_type": "code",
      "metadata": {
        "tags": [],
        "id": "mv8NjFkHPkbJ",
        "outputId": "e5bcc9c1-75d5-406f-81a4-d68336463823",
        "colab": {
          "base_uri": "https://localhost:8080/"
        }
      },
      "source": [
        "type(empty)"
      ],
      "execution_count": 19,
      "outputs": [
        {
          "output_type": "execute_result",
          "data": {
            "text/plain": [
              "list"
            ]
          },
          "metadata": {
            "tags": []
          },
          "execution_count": 19
        }
      ]
    },
    {
      "cell_type": "markdown",
      "metadata": {
        "id": "hEsdSeDMPkbJ"
      },
      "source": [
        "The `len` function returns the length (number of elements) in a list or tuple."
      ]
    },
    {
      "cell_type": "code",
      "metadata": {
        "id": "yxzS4lZOPkbJ",
        "outputId": "bd6c3494-8c58-43af-b8a1-808aa65e5182",
        "colab": {
          "base_uri": "https://localhost:8080/"
        }
      },
      "source": [
        "len([1, 2, 3]), len(single), len(empty)"
      ],
      "execution_count": 20,
      "outputs": [
        {
          "output_type": "execute_result",
          "data": {
            "text/plain": [
              "(3, 1, 0)"
            ]
          },
          "metadata": {
            "tags": []
          },
          "execution_count": 20
        }
      ]
    },
    {
      "cell_type": "markdown",
      "metadata": {
        "id": "3awzk16-PkbK"
      },
      "source": [
        "**Exercise:** Create a list with 4 elements; then use `type` to confirm that it's a list, and `len` to confirm that it has 4 elements."
      ]
    },
    {
      "cell_type": "code",
      "metadata": {
        "id": "gKiH61VTPkbK",
        "outputId": "3284f88e-b029-47d1-b361-d6a9b150600f",
        "colab": {
          "base_uri": "https://localhost:8080/"
        }
      },
      "source": [
        "# Solution goes here\n",
        "lst = [x**2 + 2*x + 1 for x in range(4)]\n",
        "lst"
      ],
      "execution_count": 22,
      "outputs": [
        {
          "output_type": "execute_result",
          "data": {
            "text/plain": [
              "[1, 4, 9, 16]"
            ]
          },
          "metadata": {
            "tags": []
          },
          "execution_count": 22
        }
      ]
    },
    {
      "cell_type": "code",
      "metadata": {
        "id": "FYUW2z19PkbK",
        "outputId": "f5376e6f-94d4-41ff-ae7f-af8ce96f7568",
        "colab": {
          "base_uri": "https://localhost:8080/"
        }
      },
      "source": [
        "# Solution goes here\n",
        "type(lst)"
      ],
      "execution_count": 23,
      "outputs": [
        {
          "output_type": "execute_result",
          "data": {
            "text/plain": [
              "list"
            ]
          },
          "metadata": {
            "tags": []
          },
          "execution_count": 23
        }
      ]
    },
    {
      "cell_type": "code",
      "metadata": {
        "id": "AXbJnMX0PkbK",
        "outputId": "65c3e732-c4fb-4265-85f7-eb1809793027",
        "colab": {
          "base_uri": "https://localhost:8080/"
        }
      },
      "source": [
        "# Solution goes here\n",
        "len(lst)"
      ],
      "execution_count": 24,
      "outputs": [
        {
          "output_type": "execute_result",
          "data": {
            "text/plain": [
              "4"
            ]
          },
          "metadata": {
            "tags": []
          },
          "execution_count": 24
        }
      ]
    },
    {
      "cell_type": "markdown",
      "metadata": {
        "id": "sCOm_VrzPkbL"
      },
      "source": [
        "There's a lot more we could do with lists, but that's enough to get started.  In the next section, we'll use lists to store data about sandwich prices."
      ]
    },
    {
      "cell_type": "markdown",
      "metadata": {
        "id": "Iwvsh3dfPkbL"
      },
      "source": [
        "## Sandwiches\n",
        "\n",
        "In September 2019, *The Economist* published an article comparing sandwich prices in Boston and London: \"[Why Americans pay more for lunch than Britons do](https://www.economist.com/finance-and-economics/2019/09/07/why-americans-pay-more-for-lunch-than-britons-do)\".\n",
        "It includes this graph showing prices of several sandwiches in the two cities:\n",
        "\n",
        "![](https://github.com/AllenDowney/ElementsOfDataScience/raw/master/figs/20190907_FNC941.png)"
      ]
    },
    {
      "cell_type": "markdown",
      "metadata": {
        "id": "GqQ128jZPkbM"
      },
      "source": [
        "Here are the sandwich names from the graph, as a list of strings."
      ]
    },
    {
      "cell_type": "code",
      "metadata": {
        "id": "O-uIrWtMPkbM"
      },
      "source": [
        "name_list = [\n",
        "    'Lobster roll',\n",
        "    'Chicken caesar',\n",
        "    'Bang bang chicken',\n",
        "    'Ham and cheese',\n",
        "    'Tuna and cucumber',\n",
        "    'Egg'\n",
        "]"
      ],
      "execution_count": 25,
      "outputs": []
    },
    {
      "cell_type": "markdown",
      "metadata": {
        "id": "lH94R2j6PkbM"
      },
      "source": [
        "I contacted *The Economist* to ask for the data they used to create that graph, and they were kind enough to share it with me.\n",
        "Here are the sandwich prices in Boston:"
      ]
    },
    {
      "cell_type": "code",
      "metadata": {
        "id": "5Faa78TTPkbN"
      },
      "source": [
        "boston_price_list = [9.99, 7.99, 7.49, 7.00, 6.29, 4.99]"
      ],
      "execution_count": 26,
      "outputs": []
    },
    {
      "cell_type": "markdown",
      "metadata": {
        "id": "Q4bHLIFOPkbN"
      },
      "source": [
        "Here are the prices in London, converted to dollars at \\$1.25 / £1."
      ]
    },
    {
      "cell_type": "code",
      "metadata": {
        "id": "DsN_li_RPkbN"
      },
      "source": [
        "london_price_list = [7.5, 5, 4.4, 5, 3.75, 2.25]"
      ],
      "execution_count": 27,
      "outputs": []
    },
    {
      "cell_type": "markdown",
      "metadata": {
        "id": "YPHJURYMPkbN"
      },
      "source": [
        "Lists provide some arithmetic operators, but they might not do what you want.  For example, you can \"add\" two lists:"
      ]
    },
    {
      "cell_type": "code",
      "metadata": {
        "id": "ZT3X2eUbPkbN",
        "outputId": "7edf4c29-d1ce-4a0a-f962-f3eb77213a5f",
        "colab": {
          "base_uri": "https://localhost:8080/"
        }
      },
      "source": [
        "boston_price_list + london_price_list"
      ],
      "execution_count": 28,
      "outputs": [
        {
          "output_type": "execute_result",
          "data": {
            "text/plain": [
              "[9.99, 7.99, 7.49, 7.0, 6.29, 4.99, 7.5, 5, 4.4, 5, 3.75, 2.25]"
            ]
          },
          "metadata": {
            "tags": []
          },
          "execution_count": 28
        }
      ]
    },
    {
      "cell_type": "markdown",
      "metadata": {
        "id": "6egYzT0bPkbO"
      },
      "source": [
        "But it concatenates the two lists, which is not very useful in this example.\n",
        "To compute differences between prices, you might try subtracting lists, but you would get an error.  \n",
        "We can solve this problem with a NumPy array."
      ]
    },
    {
      "cell_type": "markdown",
      "metadata": {
        "tags": [],
        "id": "hQX6NFy2PkbO"
      },
      "source": [
        "Run this code in the following cell to see what the error message is.\n",
        "\n",
        "```\n",
        "boston_price_list - london_price_list\n",
        "```"
      ]
    },
    {
      "cell_type": "code",
      "metadata": {
        "tags": [],
        "id": "Tsu4QtXcPkbO",
        "outputId": "9798658a-1c78-4bd7-b056-d53e63203ab6",
        "colab": {
          "base_uri": "https://localhost:8080/",
          "height": 163
        }
      },
      "source": [
        "boston_price_list - london_price_list"
      ],
      "execution_count": 29,
      "outputs": [
        {
          "output_type": "error",
          "ename": "TypeError",
          "evalue": "ignored",
          "traceback": [
            "\u001b[0;31m---------------------------------------------------------------------------\u001b[0m",
            "\u001b[0;31mTypeError\u001b[0m                                 Traceback (most recent call last)",
            "\u001b[0;32m<ipython-input-29-1ff9739e4f5a>\u001b[0m in \u001b[0;36m<module>\u001b[0;34m()\u001b[0m\n\u001b[0;32m----> 1\u001b[0;31m \u001b[0mboston_price_list\u001b[0m \u001b[0;34m-\u001b[0m \u001b[0mlondon_price_list\u001b[0m\u001b[0;34m\u001b[0m\u001b[0;34m\u001b[0m\u001b[0m\n\u001b[0m",
            "\u001b[0;31mTypeError\u001b[0m: unsupported operand type(s) for -: 'list' and 'list'"
          ]
        }
      ]
    },
    {
      "cell_type": "markdown",
      "metadata": {
        "id": "Tlr7UsPgPkbO"
      },
      "source": [
        "## NumPy Arrays\n",
        "\n",
        "We've already seen that the NumPy library provides math functions.  It also provides a type of sequence called an array.\n",
        "You can create a new array with the `np.array` function, starting with a list or tuple."
      ]
    },
    {
      "cell_type": "code",
      "metadata": {
        "id": "F0FWJ0KhPkbP"
      },
      "source": [
        "import numpy as np\n",
        "\n",
        "boston_price_array = np.array(boston_price_list)\n",
        "london_price_array = np.array(london_price_list)"
      ],
      "execution_count": 30,
      "outputs": []
    },
    {
      "cell_type": "markdown",
      "metadata": {
        "id": "v0YDiuOsPkbP"
      },
      "source": [
        "The type of the result is `numpy.ndarray`."
      ]
    },
    {
      "cell_type": "code",
      "metadata": {
        "id": "7tTIwB1ePkbP",
        "outputId": "0c314ef9-3995-4547-be26-f7431e67cfd2",
        "colab": {
          "base_uri": "https://localhost:8080/"
        }
      },
      "source": [
        "type(boston_price_array)"
      ],
      "execution_count": 31,
      "outputs": [
        {
          "output_type": "execute_result",
          "data": {
            "text/plain": [
              "numpy.ndarray"
            ]
          },
          "metadata": {
            "tags": []
          },
          "execution_count": 31
        }
      ]
    },
    {
      "cell_type": "markdown",
      "metadata": {
        "id": "MhAecM1HPkbP"
      },
      "source": [
        "The \"nd\" stands for \"n-dimensional\", which indicates that NumPy arrays can have any number of dimensions.\n",
        "But for now we will work with one-dimensional sequences.\n",
        "If you display an array, Python displays the elements:"
      ]
    },
    {
      "cell_type": "code",
      "metadata": {
        "id": "6VbOgnohPkbQ",
        "outputId": "9ceefd21-d6f4-4439-d346-6387b7899a73",
        "colab": {
          "base_uri": "https://localhost:8080/"
        }
      },
      "source": [
        "boston_price_array"
      ],
      "execution_count": 32,
      "outputs": [
        {
          "output_type": "execute_result",
          "data": {
            "text/plain": [
              "array([9.99, 7.99, 7.49, 7.  , 6.29, 4.99])"
            ]
          },
          "metadata": {
            "tags": []
          },
          "execution_count": 32
        }
      ]
    },
    {
      "cell_type": "markdown",
      "metadata": {
        "id": "qj4yybRAPkbQ"
      },
      "source": [
        "You can also display the \"data type\" of the array, which is the type of the elements:"
      ]
    },
    {
      "cell_type": "code",
      "metadata": {
        "id": "5MizvfF9PkbR",
        "outputId": "659a9ac1-92ec-449d-c57c-4e26483c9bbf",
        "colab": {
          "base_uri": "https://localhost:8080/"
        }
      },
      "source": [
        "boston_price_array.dtype"
      ],
      "execution_count": 33,
      "outputs": [
        {
          "output_type": "execute_result",
          "data": {
            "text/plain": [
              "dtype('float64')"
            ]
          },
          "metadata": {
            "tags": []
          },
          "execution_count": 33
        }
      ]
    },
    {
      "cell_type": "markdown",
      "metadata": {
        "id": "j9BA_t4QPkbR"
      },
      "source": [
        "`float64` means that the elements are floating-point numbers that take up 64 bits each.  You don't need to know about the storage format of these numbers, but if you are curious, you can read about it at <https://en.wikipedia.org/wiki/Floating-point_arithmetic#Internal_representation>.\n",
        "\n",
        "The elements of a NumPy array can be any type, but they all have to be the same type.\n",
        "Most often the elements are numbers, but you can also make an array of strings."
      ]
    },
    {
      "cell_type": "code",
      "metadata": {
        "id": "KMMDLUy3PkbR",
        "outputId": "4c4f73cc-c399-4a89-927f-03a83023670b",
        "colab": {
          "base_uri": "https://localhost:8080/"
        }
      },
      "source": [
        "name_array = np.array(name_list)\n",
        "name_array"
      ],
      "execution_count": 34,
      "outputs": [
        {
          "output_type": "execute_result",
          "data": {
            "text/plain": [
              "array(['Lobster roll', 'Chicken caesar', 'Bang bang chicken',\n",
              "       'Ham and cheese', 'Tuna and cucumber', 'Egg'], dtype='<U17')"
            ]
          },
          "metadata": {
            "tags": []
          },
          "execution_count": 34
        }
      ]
    },
    {
      "cell_type": "markdown",
      "metadata": {
        "id": "SPpegF0IPkbS"
      },
      "source": [
        "In this example, the `dtype` is `<U17`.  The `U` indicates that the elements are Unicode strings; Unicode is the standard Python uses to represent strings.\n",
        "\n",
        "Now, here's why NumPy arrays are useful: they can do arithmetic.  For example, to compute the differences between Boston and London prices, we can write: "
      ]
    },
    {
      "cell_type": "code",
      "metadata": {
        "id": "Iwk3anUlPkbS",
        "outputId": "b0c0e81d-22cd-4950-cabf-3060843bd723",
        "colab": {
          "base_uri": "https://localhost:8080/"
        }
      },
      "source": [
        "differences = boston_price_array - london_price_array\n",
        "differences"
      ],
      "execution_count": 35,
      "outputs": [
        {
          "output_type": "execute_result",
          "data": {
            "text/plain": [
              "array([2.49, 2.99, 3.09, 2.  , 2.54, 2.74])"
            ]
          },
          "metadata": {
            "tags": []
          },
          "execution_count": 35
        }
      ]
    },
    {
      "cell_type": "markdown",
      "metadata": {
        "id": "5lHKHQ7-PkbS"
      },
      "source": [
        "Subtraction is done \"elementwise\"; that is, NumPy lines up the two arrays and subtracts corresponding elements.  The result is a new array."
      ]
    },
    {
      "cell_type": "markdown",
      "metadata": {
        "id": "nw6SaUpgPkbT"
      },
      "source": [
        "## Mean and standard deviation\n",
        "\n",
        "NumPy provides functions that compute statistical summaries like the mean: "
      ]
    },
    {
      "cell_type": "code",
      "metadata": {
        "id": "Z7y7f5NhPkbT",
        "outputId": "0c39abbd-d670-41f0-9b2c-8004214c305b",
        "colab": {
          "base_uri": "https://localhost:8080/"
        }
      },
      "source": [
        "np.mean(differences)"
      ],
      "execution_count": 36,
      "outputs": [
        {
          "output_type": "execute_result",
          "data": {
            "text/plain": [
              "2.6416666666666666"
            ]
          },
          "metadata": {
            "tags": []
          },
          "execution_count": 36
        }
      ]
    },
    {
      "cell_type": "markdown",
      "metadata": {
        "id": "EbqHEHOXPkbT"
      },
      "source": [
        "So we could describe the difference in prices like this: \"Sandwiches in Boston are more expensive by \\$2.64, on average\".\n",
        "We could also compute the means first, and then compute their difference:"
      ]
    },
    {
      "cell_type": "code",
      "metadata": {
        "id": "ouD_Vpc9PkbT",
        "outputId": "00c71e41-5db9-469d-9dfd-a031ab14a38f",
        "colab": {
          "base_uri": "https://localhost:8080/"
        }
      },
      "source": [
        "np.mean(boston_price_array) - np.mean(london_price_array)"
      ],
      "execution_count": 37,
      "outputs": [
        {
          "output_type": "execute_result",
          "data": {
            "text/plain": [
              "2.6416666666666675"
            ]
          },
          "metadata": {
            "tags": []
          },
          "execution_count": 37
        }
      ]
    },
    {
      "cell_type": "markdown",
      "metadata": {
        "id": "hi78wGo1PkbT"
      },
      "source": [
        "And that turns out to be the same thing: the difference in means is the same as the mean of the differences.\n",
        "As an aside, many of the NumPy functions also work with lists, so we could also do this:"
      ]
    },
    {
      "cell_type": "code",
      "metadata": {
        "id": "-a21JSLbPkbU",
        "outputId": "f0554d37-960b-4605-fc27-f1814c9316f1",
        "colab": {
          "base_uri": "https://localhost:8080/"
        }
      },
      "source": [
        "np.mean(boston_price_list) - np.mean(london_price_list)"
      ],
      "execution_count": 38,
      "outputs": [
        {
          "output_type": "execute_result",
          "data": {
            "text/plain": [
              "2.6416666666666675"
            ]
          },
          "metadata": {
            "tags": []
          },
          "execution_count": 38
        }
      ]
    },
    {
      "cell_type": "markdown",
      "metadata": {
        "id": "JUJBMGqTPkbU"
      },
      "source": [
        "**Exercise:** Standard deviation is way to quantify the variability in a set of numbers.  The NumPy function that computes standard deviation is `np.std`.\n",
        "\n",
        "Compute the standard deviation of sandwich prices in Boston and London.  By this measure, which set of prices is more variable?"
      ]
    },
    {
      "cell_type": "code",
      "metadata": {
        "id": "BVkx-u2IPkbU",
        "outputId": "0aa86824-0b7f-45d8-a2e2-3d7c68a12d6d",
        "colab": {
          "base_uri": "https://localhost:8080/"
        }
      },
      "source": [
        "# Solution goes here\n",
        "boston_price_array.std(), london_price_array.std()"
      ],
      "execution_count": 39,
      "outputs": [
        {
          "output_type": "execute_result",
          "data": {
            "text/plain": [
              "(1.5380769017040583, 1.5811388300841898)"
            ]
          },
          "metadata": {
            "tags": []
          },
          "execution_count": 39
        }
      ]
    },
    {
      "cell_type": "markdown",
      "metadata": {
        "id": "kCEpIbknPkbU"
      },
      "source": [
        "**Exercise:** The definition of the mean, in math notation, is\n",
        "\n",
        "$\\mu = \\frac{1}{N} \\sum_i x_i$\n",
        "\n",
        "where $x$ is a sequence of elements, $x_i$ is the element with index $i$, and $N$ is the number of elements.\n",
        "The definition of standard deviation is\n",
        "\n",
        "$\\sigma = \\sqrt{\\frac{1}{N} \\sum_i (x_i - \\mu)^2}$\n",
        "\n",
        "Compute the standard deviation of `boston_price_list` using NumPy functions `np.mean` and `np.sqrt` and see if you get the same result as `np.std`.\n",
        "\n",
        "Note: You can (and should) do this exercise using only features we have discussed so far."
      ]
    },
    {
      "cell_type": "code",
      "metadata": {
        "id": "nryoMheDPkbU",
        "outputId": "6dfb0abe-10a1-420b-f8a1-e0f3227bee76",
        "colab": {
          "base_uri": "https://localhost:8080/"
        }
      },
      "source": [
        "# Solution goes here\n",
        "np.sqrt(((boston_price_array - boston_price_array.mean())**2).sum() / len(boston_price_array))"
      ],
      "execution_count": 48,
      "outputs": [
        {
          "output_type": "execute_result",
          "data": {
            "text/plain": [
              "1.5380769017040583"
            ]
          },
          "metadata": {
            "tags": []
          },
          "execution_count": 48
        }
      ]
    },
    {
      "cell_type": "markdown",
      "metadata": {
        "id": "t1e09jNYPkbV"
      },
      "source": [
        "Note: This definition of standard deviation is sometimes called the \"population standard deviation\".  You might have seen another definition with $N-1$ in the denominator; that's the \"sample standard deviation\".  We'll use the population standard deviation for now and come back to this issue later."
      ]
    },
    {
      "cell_type": "markdown",
      "metadata": {
        "id": "0whZxMpzPkbV"
      },
      "source": [
        "## Relative Difference\n",
        "\n",
        "In the previous section we computed differences between prices.\n",
        "But often when we make this kind of comparison, we are interested in **relative difference**, which are differences expressed as a fraction or percentage of a quantity.\n",
        "\n",
        "Taking the lobster roll as an example, the difference in price is:"
      ]
    },
    {
      "cell_type": "code",
      "metadata": {
        "id": "vLsVWVH6PkbV",
        "outputId": "2c3e33e8-6a0b-4f10-dd7b-6d7ac49b2583",
        "colab": {
          "base_uri": "https://localhost:8080/"
        }
      },
      "source": [
        "9.99 - 7.5"
      ],
      "execution_count": 51,
      "outputs": [
        {
          "output_type": "execute_result",
          "data": {
            "text/plain": [
              "2.49"
            ]
          },
          "metadata": {
            "tags": []
          },
          "execution_count": 51
        }
      ]
    },
    {
      "cell_type": "markdown",
      "metadata": {
        "id": "LiedgxuIPkbW"
      },
      "source": [
        "We can express that difference as a fraction of the London price, like this:"
      ]
    },
    {
      "cell_type": "code",
      "metadata": {
        "id": "hKFfBazdPkbW",
        "outputId": "2f748f21-418a-433c-e149-b60be31a30d9",
        "colab": {
          "base_uri": "https://localhost:8080/"
        }
      },
      "source": [
        "(9.99 - 7.5) / 7.5"
      ],
      "execution_count": 52,
      "outputs": [
        {
          "output_type": "execute_result",
          "data": {
            "text/plain": [
              "0.332"
            ]
          },
          "metadata": {
            "tags": []
          },
          "execution_count": 52
        }
      ]
    },
    {
      "cell_type": "markdown",
      "metadata": {
        "id": "S3kedtgQPkbW"
      },
      "source": [
        "Or as a *percentage* of the London price, like this:"
      ]
    },
    {
      "cell_type": "code",
      "metadata": {
        "id": "LgW3Kd1aPkbX",
        "outputId": "5fbc2015-04ca-49b4-8d7d-43f7073d66d3",
        "colab": {
          "base_uri": "https://localhost:8080/"
        }
      },
      "source": [
        "(9.99 - 7.5) / 7.5 * 100"
      ],
      "execution_count": 53,
      "outputs": [
        {
          "output_type": "execute_result",
          "data": {
            "text/plain": [
              "33.2"
            ]
          },
          "metadata": {
            "tags": []
          },
          "execution_count": 53
        }
      ]
    },
    {
      "cell_type": "markdown",
      "metadata": {
        "id": "MWq5hSAsPkbX"
      },
      "source": [
        "So we might say that the lobster roll is 33% more expensive in Boston.\n",
        "But putting London in the denominator was an arbitrary choice.  We could also compute the difference as a percentage of the Boston price:"
      ]
    },
    {
      "cell_type": "code",
      "metadata": {
        "id": "C6T14TswPkbX",
        "outputId": "64f1008b-afaa-4f25-d213-cfd7a304f7fd",
        "colab": {
          "base_uri": "https://localhost:8080/"
        }
      },
      "source": [
        "(9.99 - 7.5) / 9.99 * 100"
      ],
      "execution_count": 54,
      "outputs": [
        {
          "output_type": "execute_result",
          "data": {
            "text/plain": [
              "24.924924924924927"
            ]
          },
          "metadata": {
            "tags": []
          },
          "execution_count": 54
        }
      ]
    },
    {
      "cell_type": "markdown",
      "metadata": {
        "id": "5yVycomuPkbX"
      },
      "source": [
        "If we do that calculation, we might say the lobster roll is 25% cheaper in London.\n",
        "When you read this kind of comparison, you should make sure you understand which quantity is in the denominator, and you might want to think about why that choice was made.\n",
        "In this example, if you want to make the difference seem bigger, you might put London prices in the denominator.\n",
        "\n",
        "If we do the same calculation with the arrays `boston_price_array` and `boston_price_array`, we can compute the relative differences for all sandwiches:"
      ]
    },
    {
      "cell_type": "code",
      "metadata": {
        "id": "YJXiIXdsPkbY",
        "outputId": "0e92913e-fade-410c-c22d-f276c34f2ecb",
        "colab": {
          "base_uri": "https://localhost:8080/"
        }
      },
      "source": [
        "differences = boston_price_array - london_price_array\n",
        "relative_differences = differences / london_price_array\n",
        "relative_differences"
      ],
      "execution_count": 55,
      "outputs": [
        {
          "output_type": "execute_result",
          "data": {
            "text/plain": [
              "array([0.332     , 0.598     , 0.70227273, 0.4       , 0.67733333,\n",
              "       1.21777778])"
            ]
          },
          "metadata": {
            "tags": []
          },
          "execution_count": 55
        }
      ]
    },
    {
      "cell_type": "markdown",
      "metadata": {
        "id": "BVNuiGRKPkbY"
      },
      "source": [
        "And the percent differences."
      ]
    },
    {
      "cell_type": "code",
      "metadata": {
        "id": "QvJObm7yPkbY",
        "outputId": "5b0cbc54-3f60-47ad-9898-6ec0805f2b34",
        "colab": {
          "base_uri": "https://localhost:8080/"
        }
      },
      "source": [
        "percent_differences = relative_differences * 100\n",
        "percent_differences"
      ],
      "execution_count": 56,
      "outputs": [
        {
          "output_type": "execute_result",
          "data": {
            "text/plain": [
              "array([ 33.2       ,  59.8       ,  70.22727273,  40.        ,\n",
              "        67.73333333, 121.77777778])"
            ]
          },
          "metadata": {
            "tags": []
          },
          "execution_count": 56
        }
      ]
    },
    {
      "cell_type": "markdown",
      "metadata": {
        "id": "mPw_zHcrPkbZ"
      },
      "source": [
        "## Summarizing Relative Differences\n",
        "\n",
        "Now let's think about how to summarize an array of percentage differences.\n",
        "One option is to report the range, which we can compute with `np.min` and `np.max`."
      ]
    },
    {
      "cell_type": "code",
      "metadata": {
        "id": "RADUG7MmPkbZ",
        "outputId": "4b73e8e5-3dcb-46a5-88f2-ccd45eb70547",
        "colab": {
          "base_uri": "https://localhost:8080/"
        }
      },
      "source": [
        "np.min(percent_differences), np.max(percent_differences)"
      ],
      "execution_count": 57,
      "outputs": [
        {
          "output_type": "execute_result",
          "data": {
            "text/plain": [
              "(33.2, 121.77777777777779)"
            ]
          },
          "metadata": {
            "tags": []
          },
          "execution_count": 57
        }
      ]
    },
    {
      "cell_type": "markdown",
      "metadata": {
        "id": "4RENkk0jPkbZ"
      },
      "source": [
        "The lobster roll is only 33% more expensive in Boston; the egg sandwich is 121% percent more (that is, more than twice the price)."
      ]
    },
    {
      "cell_type": "markdown",
      "metadata": {
        "id": "TUEypf2vPkbZ"
      },
      "source": [
        "**Exercise:** What are the percent differences if we put the Boston prices in the denominator?  What is the range of those differences?  Write a sentence that summarizes the results."
      ]
    },
    {
      "cell_type": "code",
      "metadata": {
        "id": "Cpc3JKEIPkba",
        "outputId": "9e4b1fe3-ef03-489b-8361-f40fe6fbf852",
        "colab": {
          "base_uri": "https://localhost:8080/"
        }
      },
      "source": [
        "# Solution goes here\n",
        "differences_b = boston_price_array - london_price_array \n",
        "relative_diffs = differences_b / boston_price_array\n",
        "relative_diffs"
      ],
      "execution_count": 62,
      "outputs": [
        {
          "output_type": "execute_result",
          "data": {
            "text/plain": [
              "array([0.24924925, 0.37421777, 0.41255007, 0.28571429, 0.40381558,\n",
              "       0.5490982 ])"
            ]
          },
          "metadata": {
            "tags": []
          },
          "execution_count": 62
        }
      ]
    },
    {
      "cell_type": "code",
      "metadata": {
        "id": "xeB44dx8Pkba",
        "outputId": "53fe65b9-c35f-4d32-81ce-74fd9481f42e",
        "colab": {
          "base_uri": "https://localhost:8080/"
        }
      },
      "source": [
        "# Solution goes here\n",
        "percent_diffs = relative_diffs * 100\n",
        "percent_diffs"
      ],
      "execution_count": 63,
      "outputs": [
        {
          "output_type": "execute_result",
          "data": {
            "text/plain": [
              "array([24.92492492, 37.42177722, 41.25500668, 28.57142857, 40.38155803,\n",
              "       54.90981964])"
            ]
          },
          "metadata": {
            "tags": []
          },
          "execution_count": 63
        }
      ]
    },
    {
      "cell_type": "code",
      "metadata": {
        "id": "NqN-wOAfPkba",
        "outputId": "846cf580-fb01-4c18-f668-b65d1762de61",
        "colab": {
          "base_uri": "https://localhost:8080/"
        }
      },
      "source": [
        "# Solution goes here\n",
        "np.min(percent_diffs), np.max(percent_diffs)"
      ],
      "execution_count": 64,
      "outputs": [
        {
          "output_type": "execute_result",
          "data": {
            "text/plain": [
              "(24.924924924924927, 54.90981963927856)"
            ]
          },
          "metadata": {
            "tags": []
          },
          "execution_count": 64
        }
      ]
    },
    {
      "cell_type": "markdown",
      "metadata": {
        "id": "YOnwr1GaPkba"
      },
      "source": [
        "Another way to summarize percentage differences is to report the mean."
      ]
    },
    {
      "cell_type": "code",
      "metadata": {
        "id": "pPxd1H3WPkba",
        "outputId": "fee6e5dc-6826-4c49-c82c-25adb6913006",
        "colab": {
          "base_uri": "https://localhost:8080/"
        }
      },
      "source": [
        "np.mean(percent_differences)"
      ],
      "execution_count": 65,
      "outputs": [
        {
          "output_type": "execute_result",
          "data": {
            "text/plain": [
              "65.4563973063973"
            ]
          },
          "metadata": {
            "tags": []
          },
          "execution_count": 65
        }
      ]
    },
    {
      "cell_type": "markdown",
      "metadata": {
        "id": "vgH4lVyIPkbb"
      },
      "source": [
        "So we might say, on average, sandwiches are 65% more expensive in Boston.\n",
        "But another way to summarize the data is to compute the mean price in each city, and then compute the percentage difference of the means:"
      ]
    },
    {
      "cell_type": "code",
      "metadata": {
        "id": "RYIQaBLmPkbb",
        "outputId": "c886e7d6-a3e4-4b15-aa88-60a488030e8a",
        "colab": {
          "base_uri": "https://localhost:8080/"
        }
      },
      "source": [
        "boston_mean = np.mean(boston_price_array)\n",
        "london_mean = np.mean(london_price_array)\n",
        "\n",
        "(boston_mean - london_mean) / london_mean * 100"
      ],
      "execution_count": 66,
      "outputs": [
        {
          "output_type": "execute_result",
          "data": {
            "text/plain": [
              "56.81003584229393"
            ]
          },
          "metadata": {
            "tags": []
          },
          "execution_count": 66
        }
      ]
    },
    {
      "cell_type": "markdown",
      "metadata": {
        "id": "nm2iPkGuPkbb"
      },
      "source": [
        "So we might say that the average sandwich price is 56% higher in Boston.\n",
        "As this example demonstrates:\n",
        "\n",
        "* With relative and percentage differences, the mean of the differences is not the same as the difference of the means.\n",
        "\n",
        "* When you report data like this, you should think about different ways to summarize the data.\n",
        "\n",
        "* When you read a summary of data like this, make sure you understand what summary was chosen and what it means.\n",
        "\n",
        "In this example, I think the second option (the relative difference in the means) is more meaningful, because it reflects the difference in price between \"baskets of goods\" that include one of each sandwich."
      ]
    },
    {
      "cell_type": "markdown",
      "metadata": {
        "id": "SbRok5K0Pkbb"
      },
      "source": [
        "## Debugging\n",
        "\n",
        "So far, most of the exercises have only required a few lines of code.  If you made errors along the way, you probably found them quickly.\n",
        "\n",
        "As we go along, the exercises will be more substantial, and you may find yourself spending more time debugging.  Here are a couple of suggestions to help you find errors quickly -- and avoid them in the first place.\n",
        "\n",
        "* Most importantly, you should develop code incrementally; that is, you should write a small amount of code and test it.  If it works, add more code; otherwise, debug what you have.\n",
        "\n",
        "* Conversely, if you have written too much code, and you are having a hard time debugging it, split it into smaller chunks and debug them separately.\n",
        "\n",
        "For example, suppose you want to compute, for each sandwich in the sandwich list, the midpoint of the Boston and London prices.  As a first draft, you might write something like this:"
      ]
    },
    {
      "cell_type": "code",
      "metadata": {
        "id": "R2_RmEkDPkbb",
        "outputId": "b9b37163-d5fa-4fe5-a88c-2e436a108647",
        "colab": {
          "base_uri": "https://localhost:8080/"
        }
      },
      "source": [
        "boston_price_list = [9.99, 7.99, 7.49, 7, 6.29, 4.99]\n",
        "london_price_list = [7.5, 5, 4.4, 5, 3.75, 2.25]\n",
        "\n",
        "midpoint_price = np.mean(boston_price_list + london_price_list)\n",
        "midpoint_price"
      ],
      "execution_count": 67,
      "outputs": [
        {
          "output_type": "execute_result",
          "data": {
            "text/plain": [
              "5.970833333333334"
            ]
          },
          "metadata": {
            "tags": []
          },
          "execution_count": 67
        }
      ]
    },
    {
      "cell_type": "markdown",
      "metadata": {
        "id": "qa9lliWuPkbc"
      },
      "source": [
        "This code runs, and it produces an answer, but the answer is a single number rather than the list we were expecting.\n",
        "\n",
        "You might have already spotted the error, but let's suppose you did not.\n",
        "To debug this code, I would start by splitting the computation into smaller steps and displaying the intermediate results.  For example, we might add the two lists and display the result, like this."
      ]
    },
    {
      "cell_type": "code",
      "metadata": {
        "id": "JtwhV-JXPkbc",
        "outputId": "713f7703-9f26-418e-ff62-2bff84d92efc",
        "colab": {
          "base_uri": "https://localhost:8080/"
        }
      },
      "source": [
        "total_price = boston_price_list + london_price_list\n",
        "total_price"
      ],
      "execution_count": 68,
      "outputs": [
        {
          "output_type": "execute_result",
          "data": {
            "text/plain": [
              "[9.99, 7.99, 7.49, 7, 6.29, 4.99, 7.5, 5, 4.4, 5, 3.75, 2.25]"
            ]
          },
          "metadata": {
            "tags": []
          },
          "execution_count": 68
        }
      ]
    },
    {
      "cell_type": "markdown",
      "metadata": {
        "id": "g2zeqCFvPkbc"
      },
      "source": [
        "Looking at the result, we see that it did not add the sandwich prices elementwise, as we intended.  Because the arguments are lists, the `+` operator concatenates them rather than adding the elements.\n",
        "\n",
        "We can solve this problem by converting the lists to arrays."
      ]
    },
    {
      "cell_type": "code",
      "metadata": {
        "id": "bXY3vt9VPkbc",
        "outputId": "1c31f23e-a63f-4939-a754-ea00b929e754",
        "colab": {
          "base_uri": "https://localhost:8080/"
        }
      },
      "source": [
        "boston_price_array = np.array(boston_price_list)\n",
        "london_price_array = np.array(london_price_list)\n",
        "\n",
        "total_price_array = boston_price_array + london_price_array\n",
        "total_price_array"
      ],
      "execution_count": 69,
      "outputs": [
        {
          "output_type": "execute_result",
          "data": {
            "text/plain": [
              "array([17.49, 12.99, 11.89, 12.  , 10.04,  7.24])"
            ]
          },
          "metadata": {
            "tags": []
          },
          "execution_count": 69
        }
      ]
    },
    {
      "cell_type": "markdown",
      "metadata": {
        "id": "E5r2PBLKPkbd"
      },
      "source": [
        "And then computing the midpoint of each pair of prices, like this:"
      ]
    },
    {
      "cell_type": "code",
      "metadata": {
        "id": "kMQLf0uEPkbd",
        "outputId": "f46cd23e-2573-4161-d6ce-0cfd56ac82f8",
        "colab": {
          "base_uri": "https://localhost:8080/"
        }
      },
      "source": [
        "midpoint_price_array = total_price_array / 2\n",
        "midpoint_price_array"
      ],
      "execution_count": 70,
      "outputs": [
        {
          "output_type": "execute_result",
          "data": {
            "text/plain": [
              "array([8.745, 6.495, 5.945, 6.   , 5.02 , 3.62 ])"
            ]
          },
          "metadata": {
            "tags": []
          },
          "execution_count": 70
        }
      ]
    },
    {
      "cell_type": "markdown",
      "metadata": {
        "id": "Tlc6pe4RPkbd"
      },
      "source": [
        "As you gain experience, you will be able to write bigger chunks of code before testing.  But while you are getting started, keep it simple!\n",
        "As a general rule, each line of code should perform a small number of operations, and each cell should contain a small number of statements.  When you are getting started, this number should be one."
      ]
    },
    {
      "cell_type": "code",
      "metadata": {
        "id": "OLke2RfjPkbd"
      },
      "source": [
        ""
      ],
      "execution_count": null,
      "outputs": []
    }
  ]
}