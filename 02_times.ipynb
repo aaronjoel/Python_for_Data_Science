{
  "nbformat": 4,
  "nbformat_minor": 0,
  "metadata": {
    "celltoolbar": "Tags",
    "kernelspec": {
      "display_name": "Python 3",
      "language": "python",
      "name": "python3"
    },
    "language_info": {
      "codemirror_mode": {
        "name": "ipython",
        "version": 3
      },
      "file_extension": ".py",
      "mimetype": "text/x-python",
      "name": "python",
      "nbconvert_exporter": "python",
      "pygments_lexer": "ipython3",
      "version": "3.7.7"
    },
    "colab": {
      "name": "02_times.ipynb",
      "provenance": []
    }
  },
  "cells": [
    {
      "cell_type": "markdown",
      "metadata": {
        "id": "ehOLvyP-0Nau"
      },
      "source": [
        "# Times and places"
      ]
    },
    {
      "cell_type": "markdown",
      "metadata": {
        "tags": [],
        "id": "5XvEbY2h0Nax"
      },
      "source": [
        "*Elements of Data Science*\n",
        "\n",
        "Copyright 2021 [Allen B. Downey](https://allendowney.com)\n",
        "\n",
        "License: [Creative Commons Attribution-NonCommercial-ShareAlike 4.0 International](https://creativecommons.org/licenses/by-nc-sa/4.0/)"
      ]
    },
    {
      "cell_type": "markdown",
      "metadata": {
        "tags": [],
        "id": "5Cl69t9A0Nay"
      },
      "source": [
        "[Click here to run this notebook on Colab](https://colab.research.google.com/github/AllenDowney/ElementsOfDataScience/blob/master/02_times.ipynb) or\n",
        "[click here to download it](https://github.com/AllenDowney/ElementsOfDataScience/raw/master/02_times.ipynb)."
      ]
    },
    {
      "cell_type": "markdown",
      "metadata": {
        "id": "0XqD2zoL0Nay"
      },
      "source": [
        "In the previous chapter, you learned about variables and two kinds of values: integers and floating-point numbers.\n",
        "\n",
        "In this chapter, you'll see some additional types:\n",
        "\n",
        "* Strings, which represent text.\n",
        "\n",
        "* Time stamps, which represent dates and times.\n",
        "\n",
        "* And several ways to represent and display geographical locations.\n",
        "\n",
        "Not every data science project uses all of these types, but many projects use at least one."
      ]
    },
    {
      "cell_type": "markdown",
      "metadata": {
        "id": "1Sxe00My0Naz"
      },
      "source": [
        "## Strings\n",
        "\n",
        "A **string** is a sequence of letters, numbers, and punctuation marks.\n",
        "In Python you can create a string by typing letters between single or double quotation marks."
      ]
    },
    {
      "cell_type": "code",
      "metadata": {
        "id": "usEx0afw0Naz",
        "outputId": "08d5a1fb-ed3e-427c-cd39-173ec25508a4",
        "colab": {
          "base_uri": "https://localhost:8080/",
          "height": 35
        }
      },
      "source": [
        "'Elements'"
      ],
      "execution_count": 1,
      "outputs": [
        {
          "output_type": "execute_result",
          "data": {
            "application/vnd.google.colaboratory.intrinsic+json": {
              "type": "string"
            },
            "text/plain": [
              "'Elements'"
            ]
          },
          "metadata": {
            "tags": []
          },
          "execution_count": 1
        }
      ]
    },
    {
      "cell_type": "code",
      "metadata": {
        "id": "RBXgjIon0Na0",
        "outputId": "9b80fc2a-403c-41b2-84eb-e40a97752e0b",
        "colab": {
          "base_uri": "https://localhost:8080/",
          "height": 35
        }
      },
      "source": [
        "\"of\""
      ],
      "execution_count": 2,
      "outputs": [
        {
          "output_type": "execute_result",
          "data": {
            "application/vnd.google.colaboratory.intrinsic+json": {
              "type": "string"
            },
            "text/plain": [
              "'of'"
            ]
          },
          "metadata": {
            "tags": []
          },
          "execution_count": 2
        }
      ]
    },
    {
      "cell_type": "markdown",
      "metadata": {
        "id": "9a_vOlsz0Na1"
      },
      "source": [
        "And you can assign string values to variables."
      ]
    },
    {
      "cell_type": "code",
      "metadata": {
        "id": "DbHK67tp0Na1"
      },
      "source": [
        "first = 'Data'"
      ],
      "execution_count": 3,
      "outputs": []
    },
    {
      "cell_type": "code",
      "metadata": {
        "id": "WvY7eM-o0Na1"
      },
      "source": [
        "last = \"Science\""
      ],
      "execution_count": 4,
      "outputs": []
    },
    {
      "cell_type": "markdown",
      "metadata": {
        "id": "ODFP4E3m0Na2"
      },
      "source": [
        "Some arithmetic operators work with strings, but they might no do what you expect.  For example, the `+` operator \"concatenates\" two strings; that is, it creates a new string that contains the first string followed by the second string:"
      ]
    },
    {
      "cell_type": "code",
      "metadata": {
        "id": "5bf_pUaa0Na2",
        "outputId": "958fe90d-10ab-44ec-df32-779e6a7e1b2c",
        "colab": {
          "base_uri": "https://localhost:8080/",
          "height": 35
        }
      },
      "source": [
        "first + last"
      ],
      "execution_count": 5,
      "outputs": [
        {
          "output_type": "execute_result",
          "data": {
            "application/vnd.google.colaboratory.intrinsic+json": {
              "type": "string"
            },
            "text/plain": [
              "'DataScience'"
            ]
          },
          "metadata": {
            "tags": []
          },
          "execution_count": 5
        }
      ]
    },
    {
      "cell_type": "markdown",
      "metadata": {
        "id": "-VN2c1qn0Na2"
      },
      "source": [
        "If you want to put a space between the words, you can use a string that contains a space:"
      ]
    },
    {
      "cell_type": "code",
      "metadata": {
        "id": "EQb9BiTy0Na2",
        "outputId": "f8b7e1b8-4538-4d26-bd41-d8d98b25c6f7",
        "colab": {
          "base_uri": "https://localhost:8080/",
          "height": 35
        }
      },
      "source": [
        "first + ' ' + last"
      ],
      "execution_count": 6,
      "outputs": [
        {
          "output_type": "execute_result",
          "data": {
            "application/vnd.google.colaboratory.intrinsic+json": {
              "type": "string"
            },
            "text/plain": [
              "'Data Science'"
            ]
          },
          "metadata": {
            "tags": []
          },
          "execution_count": 6
        }
      ]
    },
    {
      "cell_type": "markdown",
      "metadata": {
        "id": "0eo04xDt0Na3"
      },
      "source": [
        "Strings are used to store text data like names, addresses, titles, etc.\n",
        "\n",
        "When you read data from a file, you might see values that look like numbers, but they are actually strings, like this:"
      ]
    },
    {
      "cell_type": "code",
      "metadata": {
        "id": "rYbD56RD0Na3"
      },
      "source": [
        "not_actually_a_number = '123'"
      ],
      "execution_count": 7,
      "outputs": []
    },
    {
      "cell_type": "markdown",
      "metadata": {
        "id": "59VVphv90Na3"
      },
      "source": [
        "If you try to do math with these strings, you *might* get an error.\n",
        "For example, the following expression causes a `TypeError` with the message \"can only concatenate `str` (not `int`) to `str`\".\n",
        "\n",
        "```\n",
        "not_actually_a_number + 1\n",
        "```\n",
        "\n",
        "But you don't always get an error; instead, you might get a surprising result.  For example:"
      ]
    },
    {
      "cell_type": "code",
      "metadata": {
        "id": "HL8emNeF0Na4",
        "outputId": "b9ab901d-c82a-40eb-81d6-c43def799fc0",
        "colab": {
          "base_uri": "https://localhost:8080/",
          "height": 35
        }
      },
      "source": [
        "not_actually_a_number * 3"
      ],
      "execution_count": 8,
      "outputs": [
        {
          "output_type": "execute_result",
          "data": {
            "application/vnd.google.colaboratory.intrinsic+json": {
              "type": "string"
            },
            "text/plain": [
              "'123123123'"
            ]
          },
          "metadata": {
            "tags": []
          },
          "execution_count": 8
        }
      ]
    },
    {
      "cell_type": "markdown",
      "metadata": {
        "id": "1PYagDfF0Na4"
      },
      "source": [
        "If you multiply a string by an integer, Python repeats the string the given number of times.\n",
        "\n",
        "If you have a string that contains only digits, you can convert it to an integer using the `int` function:"
      ]
    },
    {
      "cell_type": "code",
      "metadata": {
        "id": "3zWJGcLg0Na4",
        "outputId": "54ade627-1215-448c-cf0f-49bdeca4b295",
        "colab": {
          "base_uri": "https://localhost:8080/"
        }
      },
      "source": [
        "int('123')"
      ],
      "execution_count": 9,
      "outputs": [
        {
          "output_type": "execute_result",
          "data": {
            "text/plain": [
              "123"
            ]
          },
          "metadata": {
            "tags": []
          },
          "execution_count": 9
        }
      ]
    },
    {
      "cell_type": "markdown",
      "metadata": {
        "id": "kJNSupe10Na4"
      },
      "source": [
        "Or you can convert it to a floating-point number using `float`:"
      ]
    },
    {
      "cell_type": "code",
      "metadata": {
        "id": "VlkncLoN0Na5",
        "outputId": "6be6bd6e-712a-409e-ef21-ff4ee959a96e",
        "colab": {
          "base_uri": "https://localhost:8080/"
        }
      },
      "source": [
        "float('123')"
      ],
      "execution_count": 10,
      "outputs": [
        {
          "output_type": "execute_result",
          "data": {
            "text/plain": [
              "123.0"
            ]
          },
          "metadata": {
            "tags": []
          },
          "execution_count": 10
        }
      ]
    },
    {
      "cell_type": "markdown",
      "metadata": {
        "id": "jyzbIC6I0Na5"
      },
      "source": [
        "But if the string contains a decimal point, you can't convert it to an `int`."
      ]
    },
    {
      "cell_type": "markdown",
      "metadata": {
        "tags": [],
        "id": "_Wn1suOC0Na5"
      },
      "source": [
        "Try this example to see what happens.\n",
        "\n",
        "```\n",
        "int('12.3')\n",
        "```"
      ]
    },
    {
      "cell_type": "code",
      "metadata": {
        "tags": [],
        "id": "QSdm5acH0Na5",
        "outputId": "aef2be70-a613-484b-f13b-e9a098dcfa7a",
        "colab": {
          "base_uri": "https://localhost:8080/",
          "height": 163
        }
      },
      "source": [
        "int('12.3')"
      ],
      "execution_count": 11,
      "outputs": [
        {
          "output_type": "error",
          "ename": "ValueError",
          "evalue": "ignored",
          "traceback": [
            "\u001b[0;31m---------------------------------------------------------------------------\u001b[0m",
            "\u001b[0;31mValueError\u001b[0m                                Traceback (most recent call last)",
            "\u001b[0;32m<ipython-input-11-8c6d9d2b222e>\u001b[0m in \u001b[0;36m<module>\u001b[0;34m()\u001b[0m\n\u001b[0;32m----> 1\u001b[0;31m \u001b[0mint\u001b[0m\u001b[0;34m(\u001b[0m\u001b[0;34m'12.3'\u001b[0m\u001b[0;34m)\u001b[0m\u001b[0;34m\u001b[0m\u001b[0;34m\u001b[0m\u001b[0m\n\u001b[0m",
            "\u001b[0;31mValueError\u001b[0m: invalid literal for int() with base 10: '12.3'"
          ]
        }
      ]
    },
    {
      "cell_type": "markdown",
      "metadata": {
        "id": "tRKp08RE0Na5"
      },
      "source": [
        "Going in the other direction, you can convert any type of value to a string using `str`:"
      ]
    },
    {
      "cell_type": "code",
      "metadata": {
        "id": "PjpVXzSD0Na6",
        "outputId": "e65a645b-8e5c-4b81-8f73-5750a00b1998",
        "colab": {
          "base_uri": "https://localhost:8080/",
          "height": 35
        }
      },
      "source": [
        "str(123)"
      ],
      "execution_count": 12,
      "outputs": [
        {
          "output_type": "execute_result",
          "data": {
            "application/vnd.google.colaboratory.intrinsic+json": {
              "type": "string"
            },
            "text/plain": [
              "'123'"
            ]
          },
          "metadata": {
            "tags": []
          },
          "execution_count": 12
        }
      ]
    },
    {
      "cell_type": "code",
      "metadata": {
        "id": "i1ORuu3-0Na6",
        "outputId": "8048a7a5-c68f-4361-97c0-3d60f75b915b",
        "colab": {
          "base_uri": "https://localhost:8080/",
          "height": 35
        }
      },
      "source": [
        "str(12.3)"
      ],
      "execution_count": 13,
      "outputs": [
        {
          "output_type": "execute_result",
          "data": {
            "application/vnd.google.colaboratory.intrinsic+json": {
              "type": "string"
            },
            "text/plain": [
              "'12.3'"
            ]
          },
          "metadata": {
            "tags": []
          },
          "execution_count": 13
        }
      ]
    },
    {
      "cell_type": "markdown",
      "metadata": {
        "id": "s2TawbI50Na6"
      },
      "source": [
        "**Exercise**: When personal names are stored in a database, they are often stored in three variables: a given name, a family name, and sometimes a middle name.  For example, a list of great rock drummers might include:"
      ]
    },
    {
      "cell_type": "code",
      "metadata": {
        "id": "fPEL-4A20Na6"
      },
      "source": [
        "given = 'Neil'\n",
        "middle = 'Ellwood'\n",
        "family = 'Peart'"
      ],
      "execution_count": 14,
      "outputs": []
    },
    {
      "cell_type": "markdown",
      "metadata": {
        "id": "BiWjmys40Na7"
      },
      "source": [
        "But names are often displayed different ways in different contexts.  For example, the first time you mention someone in an article, you might give all three names, like \"Neil Ellwood Peart\".  But in the index of a book, you might put the family name first, like \"Peart, Neil Ellwood\".\n",
        "\n",
        "Write Python expressions that use the variables `given`, `middle`, and `family` to display Neil Peart's name in these two formats. "
      ]
    },
    {
      "cell_type": "code",
      "metadata": {
        "id": "lpSFWjD50Na7",
        "outputId": "e47a2c75-b2ff-48cc-fc63-2fecba1d54ae",
        "colab": {
          "base_uri": "https://localhost:8080/",
          "height": 35
        }
      },
      "source": [
        "# Solution goes here\n",
        "f'{given} {middle} {family}'"
      ],
      "execution_count": 15,
      "outputs": [
        {
          "output_type": "execute_result",
          "data": {
            "application/vnd.google.colaboratory.intrinsic+json": {
              "type": "string"
            },
            "text/plain": [
              "'Neil Ellwood Peart'"
            ]
          },
          "metadata": {
            "tags": []
          },
          "execution_count": 15
        }
      ]
    },
    {
      "cell_type": "code",
      "metadata": {
        "id": "laaW7Es_0Na7",
        "outputId": "9c921885-0bbe-4956-fe66-3ae04ac1a307",
        "colab": {
          "base_uri": "https://localhost:8080/",
          "height": 35
        }
      },
      "source": [
        "# Solution goes here\n",
        "f'{family} {given} {middle}'"
      ],
      "execution_count": 16,
      "outputs": [
        {
          "output_type": "execute_result",
          "data": {
            "application/vnd.google.colaboratory.intrinsic+json": {
              "type": "string"
            },
            "text/plain": [
              "'Peart Neil Ellwood'"
            ]
          },
          "metadata": {
            "tags": []
          },
          "execution_count": 16
        }
      ]
    },
    {
      "cell_type": "markdown",
      "metadata": {
        "id": "XgGLiXff0Na7"
      },
      "source": [
        "## Dates and times\n",
        "\n",
        "If you read data from a file, you might also find that dates and times are represented with strings."
      ]
    },
    {
      "cell_type": "code",
      "metadata": {
        "id": "pxSK7sAX0Na8"
      },
      "source": [
        "not_really_a_date = 'June 4, 1989'"
      ],
      "execution_count": 17,
      "outputs": []
    },
    {
      "cell_type": "markdown",
      "metadata": {
        "id": "f2W_v9be0Na8"
      },
      "source": [
        "To confirm that this value is a string, we can use the `type` function, which takes a value and reports its type."
      ]
    },
    {
      "cell_type": "code",
      "metadata": {
        "id": "oU-Ty_7k0Na8",
        "outputId": "a5debe64-02d7-4ef8-dd49-775cf22316d4",
        "colab": {
          "base_uri": "https://localhost:8080/"
        }
      },
      "source": [
        "type(not_really_a_date)"
      ],
      "execution_count": 18,
      "outputs": [
        {
          "output_type": "execute_result",
          "data": {
            "text/plain": [
              "str"
            ]
          },
          "metadata": {
            "tags": []
          },
          "execution_count": 18
        }
      ]
    },
    {
      "cell_type": "markdown",
      "metadata": {
        "id": "2BO9tNzS0Na8"
      },
      "source": [
        "`str` indicates that the value of `not_really_a_date` is a string.\n",
        "\n",
        "We get the same result with `not_really_a_time`, below:"
      ]
    },
    {
      "cell_type": "code",
      "metadata": {
        "id": "UVSJEriq0Na8",
        "outputId": "fd5a99a7-5c15-4e19-8ede-e3118104a59a",
        "colab": {
          "base_uri": "https://localhost:8080/"
        }
      },
      "source": [
        "not_really_a_time = '6:30:00'\n",
        "type(not_really_a_time)"
      ],
      "execution_count": 19,
      "outputs": [
        {
          "output_type": "execute_result",
          "data": {
            "text/plain": [
              "str"
            ]
          },
          "metadata": {
            "tags": []
          },
          "execution_count": 19
        }
      ]
    },
    {
      "cell_type": "markdown",
      "metadata": {
        "id": "iHbZkpJm0Na9"
      },
      "source": [
        "Strings that represent dates and times a readable for people, but they are not useful for computation.\n",
        "\n",
        "Fortunately, Python provides libraries for working with date and time data; the one we'll use is called Pandas.\n",
        "As always, we have to import a library before we use it; it is conventional to import Pandas with the abbreviated name `pd`:"
      ]
    },
    {
      "cell_type": "code",
      "metadata": {
        "id": "DuUhsQVs0Na9"
      },
      "source": [
        "import pandas as pd"
      ],
      "execution_count": 20,
      "outputs": []
    },
    {
      "cell_type": "markdown",
      "metadata": {
        "id": "9m99GMzP0Na9"
      },
      "source": [
        "Pandas provides a type called `Timestamp`, which represents a date and time.\n",
        "\n",
        "It also provides a function called `Timestamp`, which we can use to convert a string to a `Timestamp`:"
      ]
    },
    {
      "cell_type": "code",
      "metadata": {
        "id": "eeVbgFUB0Na-",
        "outputId": "bce86e2b-068f-4e6d-defb-c2577aaa76b0",
        "colab": {
          "base_uri": "https://localhost:8080/"
        }
      },
      "source": [
        "pd.Timestamp('6:30:00')"
      ],
      "execution_count": 21,
      "outputs": [
        {
          "output_type": "execute_result",
          "data": {
            "text/plain": [
              "Timestamp('2021-05-29 06:30:00')"
            ]
          },
          "metadata": {
            "tags": []
          },
          "execution_count": 21
        }
      ]
    },
    {
      "cell_type": "markdown",
      "metadata": {
        "id": "9JDaeBuq0Na-"
      },
      "source": [
        "Or we can do the same thing using the variable defined above."
      ]
    },
    {
      "cell_type": "code",
      "metadata": {
        "id": "MOWCaOQY0Na-",
        "outputId": "4a979276-6257-497f-cf65-bee9572ea765",
        "colab": {
          "base_uri": "https://localhost:8080/"
        }
      },
      "source": [
        "pd.Timestamp(not_really_a_time)"
      ],
      "execution_count": 22,
      "outputs": [
        {
          "output_type": "execute_result",
          "data": {
            "text/plain": [
              "Timestamp('2021-05-29 06:30:00')"
            ]
          },
          "metadata": {
            "tags": []
          },
          "execution_count": 22
        }
      ]
    },
    {
      "cell_type": "markdown",
      "metadata": {
        "id": "c_X9prdf0Na-"
      },
      "source": [
        "In this example, the string specifies a time but no date, so Pandas fills in today's date.\n",
        "\n",
        "A `Timestamp` is a value, so you can assign it to a variable."
      ]
    },
    {
      "cell_type": "code",
      "metadata": {
        "id": "HJ1lSCrn0Na_",
        "outputId": "63b0a879-a540-4cd1-d6f2-1dcdd67838e5",
        "colab": {
          "base_uri": "https://localhost:8080/"
        }
      },
      "source": [
        "date_of_birth = pd.Timestamp('June 4, 1989')\n",
        "date_of_birth"
      ],
      "execution_count": 23,
      "outputs": [
        {
          "output_type": "execute_result",
          "data": {
            "text/plain": [
              "Timestamp('1989-06-04 00:00:00')"
            ]
          },
          "metadata": {
            "tags": []
          },
          "execution_count": 23
        }
      ]
    },
    {
      "cell_type": "markdown",
      "metadata": {
        "id": "3nbjnNCV0Na_"
      },
      "source": [
        "If the string specifies a date but no time, Pandas fills in midnight as the default time.\n",
        "\n",
        "If you assign the `Timestamp` to a variable, you can use the variable name to get the year, month, and day, like this:"
      ]
    },
    {
      "cell_type": "code",
      "metadata": {
        "id": "e4lMA2_O0Na_",
        "outputId": "cba6f1d4-7fa9-4bf2-ec82-099a288bf537",
        "colab": {
          "base_uri": "https://localhost:8080/"
        }
      },
      "source": [
        "date_of_birth.year, date_of_birth.month, date_of_birth.day"
      ],
      "execution_count": 24,
      "outputs": [
        {
          "output_type": "execute_result",
          "data": {
            "text/plain": [
              "(1989, 6, 4)"
            ]
          },
          "metadata": {
            "tags": []
          },
          "execution_count": 24
        }
      ]
    },
    {
      "cell_type": "markdown",
      "metadata": {
        "id": "IxKjpuM80Na_"
      },
      "source": [
        "You can also get the name of the month and the day of the week."
      ]
    },
    {
      "cell_type": "code",
      "metadata": {
        "id": "e4ObkQQL0NbA",
        "outputId": "86f46f4c-3641-45fb-d3d1-2151303be452",
        "colab": {
          "base_uri": "https://localhost:8080/"
        }
      },
      "source": [
        "date_of_birth.day_name(), date_of_birth.month_name()"
      ],
      "execution_count": 25,
      "outputs": [
        {
          "output_type": "execute_result",
          "data": {
            "text/plain": [
              "('Sunday', 'June')"
            ]
          },
          "metadata": {
            "tags": []
          },
          "execution_count": 25
        }
      ]
    },
    {
      "cell_type": "markdown",
      "metadata": {
        "id": "VlGGLWWp0NbA"
      },
      "source": [
        "`Timestamp` provides a function called `now` that returns the current date and time."
      ]
    },
    {
      "cell_type": "code",
      "metadata": {
        "id": "pf4P2F0L0NbA",
        "outputId": "af557bf2-5891-4b7e-f697-010a4b5585f2",
        "colab": {
          "base_uri": "https://localhost:8080/"
        }
      },
      "source": [
        "now = pd.Timestamp.now()\n",
        "now"
      ],
      "execution_count": 26,
      "outputs": [
        {
          "output_type": "execute_result",
          "data": {
            "text/plain": [
              "Timestamp('2021-05-29 11:39:30.368401')"
            ]
          },
          "metadata": {
            "tags": []
          },
          "execution_count": 26
        }
      ]
    },
    {
      "cell_type": "markdown",
      "metadata": {
        "id": "1jbP971h0NbA"
      },
      "source": [
        "**Exercise:** Use the value of `now` to display the name of the current month and day of the week."
      ]
    },
    {
      "cell_type": "code",
      "metadata": {
        "id": "crYqvcY70NbA",
        "outputId": "2ac53262-4533-441b-cff0-80c06fbebfda",
        "colab": {
          "base_uri": "https://localhost:8080/"
        }
      },
      "source": [
        "# Solution goes here\n",
        "now.month_name(), now.day_name()"
      ],
      "execution_count": 27,
      "outputs": [
        {
          "output_type": "execute_result",
          "data": {
            "text/plain": [
              "('May', 'Saturday')"
            ]
          },
          "metadata": {
            "tags": []
          },
          "execution_count": 27
        }
      ]
    },
    {
      "cell_type": "markdown",
      "metadata": {
        "id": "y3PbabpK0NbB"
      },
      "source": [
        "## Timedelta\n",
        "\n",
        "`Timestamp` values support some arithmetic operations.  For example, you can compute the difference between two `Timestamps`:"
      ]
    },
    {
      "cell_type": "code",
      "metadata": {
        "id": "apEkSTAW0NbB",
        "outputId": "3b29ad3d-d25d-4c2b-8e29-1101ca2e4d5e",
        "colab": {
          "base_uri": "https://localhost:8080/"
        }
      },
      "source": [
        "age = now - date_of_birth\n",
        "age"
      ],
      "execution_count": 40,
      "outputs": [
        {
          "output_type": "execute_result",
          "data": {
            "text/plain": [
              "Timedelta('11682 days 11:39:30.368401')"
            ]
          },
          "metadata": {
            "tags": []
          },
          "execution_count": 40
        }
      ]
    },
    {
      "cell_type": "markdown",
      "metadata": {
        "id": "T_bkWy1-0NbB"
      },
      "source": [
        "The result is a `Timedelta` that represents the current age of someone born on `date_of_birth`.\n",
        "The `Timedelta` contains `components` that store the number of days, hours, etc. between the two `Timestamp` values."
      ]
    },
    {
      "cell_type": "code",
      "metadata": {
        "id": "tb4AEBHT0NbB",
        "outputId": "596a3ba2-dd1f-42eb-8319-605d8a277204",
        "colab": {
          "base_uri": "https://localhost:8080/"
        }
      },
      "source": [
        "age.components"
      ],
      "execution_count": 41,
      "outputs": [
        {
          "output_type": "execute_result",
          "data": {
            "text/plain": [
              "Components(days=11682, hours=11, minutes=39, seconds=30, milliseconds=368, microseconds=401, nanoseconds=0)"
            ]
          },
          "metadata": {
            "tags": []
          },
          "execution_count": 41
        }
      ]
    },
    {
      "cell_type": "markdown",
      "metadata": {
        "id": "mKUXvnFf0NbC"
      },
      "source": [
        "You can get one of the components like this:"
      ]
    },
    {
      "cell_type": "code",
      "metadata": {
        "id": "x4QejS8v0NbC",
        "outputId": "6085e659-552e-4b89-8b36-8eab905f7a77",
        "colab": {
          "base_uri": "https://localhost:8080/"
        }
      },
      "source": [
        "age.days"
      ],
      "execution_count": 42,
      "outputs": [
        {
          "output_type": "execute_result",
          "data": {
            "text/plain": [
              "11682"
            ]
          },
          "metadata": {
            "tags": []
          },
          "execution_count": 42
        }
      ]
    },
    {
      "cell_type": "markdown",
      "metadata": {
        "id": "ZdOfehSy0NbD"
      },
      "source": [
        "The biggest component of `Timedelta` is days, not years, because days are well defined and years are problematic.\n",
        "\n",
        "Most years are 365 days, but some are 366.  The average calendar year is 365.24 days, which is a very good approximation of a solar year, but it is not exact (see <https://pumas.jpl.nasa.gov/files/04_21_97_1.pdf>).\n",
        "\n",
        "One way to compute age in years is to divide age in days by 365.24:"
      ]
    },
    {
      "cell_type": "code",
      "metadata": {
        "id": "WFtkQQbj0NbD",
        "outputId": "36df13c0-0cdd-4019-e7c2-adaac9659e77",
        "colab": {
          "base_uri": "https://localhost:8080/"
        }
      },
      "source": [
        "age.days / 365.24"
      ],
      "execution_count": 43,
      "outputs": [
        {
          "output_type": "execute_result",
          "data": {
            "text/plain": [
              "31.984448581754464"
            ]
          },
          "metadata": {
            "tags": []
          },
          "execution_count": 43
        }
      ]
    },
    {
      "cell_type": "markdown",
      "metadata": {
        "id": "jmsIkBzg0NbD"
      },
      "source": [
        "But people usually report their ages in integer years.  We can use the Numpy `floor` function to round down:"
      ]
    },
    {
      "cell_type": "code",
      "metadata": {
        "id": "N0k1X9YJ0NbE",
        "outputId": "a005ee84-c4b7-46db-dc5b-818cdd8818e5",
        "colab": {
          "base_uri": "https://localhost:8080/"
        }
      },
      "source": [
        "import numpy as np\n",
        "\n",
        "np.floor(age.days / 365.24)"
      ],
      "execution_count": 44,
      "outputs": [
        {
          "output_type": "execute_result",
          "data": {
            "text/plain": [
              "31.0"
            ]
          },
          "metadata": {
            "tags": []
          },
          "execution_count": 44
        }
      ]
    },
    {
      "cell_type": "markdown",
      "metadata": {
        "id": "-S_Hgb0B0NbE"
      },
      "source": [
        "Or the `ceil` function (which stands for \"ceiling\") to round up:"
      ]
    },
    {
      "cell_type": "code",
      "metadata": {
        "id": "DRct2lNI0NbE",
        "outputId": "8b1caacf-2d11-4876-9299-c4753e6fd782",
        "colab": {
          "base_uri": "https://localhost:8080/"
        }
      },
      "source": [
        "np.ceil(age.days / 365.24)"
      ],
      "execution_count": 45,
      "outputs": [
        {
          "output_type": "execute_result",
          "data": {
            "text/plain": [
              "32.0"
            ]
          },
          "metadata": {
            "tags": []
          },
          "execution_count": 45
        }
      ]
    },
    {
      "cell_type": "markdown",
      "metadata": {
        "id": "UPsBVyAG0NbF"
      },
      "source": [
        "We can also compare `Timestamp` values to see which comes first.\n",
        "For example, let's see if a person with a given birthdate has already had a birthday this year.\n",
        "Here's a new `Timestamp` with the year from `now` and the month and day from `date_of_birth`."
      ]
    },
    {
      "cell_type": "code",
      "metadata": {
        "id": "nc5carkg0NbF",
        "outputId": "86a64c20-a86a-4247-c41a-b1b1450231a2",
        "colab": {
          "base_uri": "https://localhost:8080/"
        }
      },
      "source": [
        "bday_this_year = pd.Timestamp(now.year, \n",
        "                              date_of_birth.month, \n",
        "                              date_of_birth.day)\n",
        "bday_this_year"
      ],
      "execution_count": 46,
      "outputs": [
        {
          "output_type": "execute_result",
          "data": {
            "text/plain": [
              "Timestamp('2021-06-04 00:00:00')"
            ]
          },
          "metadata": {
            "tags": []
          },
          "execution_count": 46
        }
      ]
    },
    {
      "cell_type": "markdown",
      "metadata": {
        "id": "LNq70IsF0NbF"
      },
      "source": [
        "The result represents the person's birthday this year.  Now we can use the `>` operator to check whether `now` is later than the birthday:"
      ]
    },
    {
      "cell_type": "code",
      "metadata": {
        "id": "NYDab7-X0NbF",
        "outputId": "7df4df03-b903-4e09-ff06-fb0beb3fc09b",
        "colab": {
          "base_uri": "https://localhost:8080/"
        }
      },
      "source": [
        "now > bday_this_year"
      ],
      "execution_count": 47,
      "outputs": [
        {
          "output_type": "execute_result",
          "data": {
            "text/plain": [
              "False"
            ]
          },
          "metadata": {
            "tags": []
          },
          "execution_count": 47
        }
      ]
    },
    {
      "cell_type": "markdown",
      "metadata": {
        "id": "ngjcMgnF0NbG"
      },
      "source": [
        "The result is either `True` or `False`.\n",
        "These values belong to a type called `bool`, short for \"Boolean algebra\", which is a branch of algebra where all values are either true or false. "
      ]
    },
    {
      "cell_type": "code",
      "metadata": {
        "id": "fWGLF2Ff0NbG",
        "outputId": "00539dec-ccd0-4a6e-9e8e-d900372e0152",
        "colab": {
          "base_uri": "https://localhost:8080/"
        }
      },
      "source": [
        "type(True)"
      ],
      "execution_count": 48,
      "outputs": [
        {
          "output_type": "execute_result",
          "data": {
            "text/plain": [
              "bool"
            ]
          },
          "metadata": {
            "tags": []
          },
          "execution_count": 48
        }
      ]
    },
    {
      "cell_type": "code",
      "metadata": {
        "id": "kwUIX_-f0NbG",
        "outputId": "d1d0d0d9-cfc8-42ce-abae-f2fa6a4cd2a3",
        "colab": {
          "base_uri": "https://localhost:8080/"
        }
      },
      "source": [
        "type(False)"
      ],
      "execution_count": 49,
      "outputs": [
        {
          "output_type": "execute_result",
          "data": {
            "text/plain": [
              "bool"
            ]
          },
          "metadata": {
            "tags": []
          },
          "execution_count": 49
        }
      ]
    },
    {
      "cell_type": "markdown",
      "metadata": {
        "id": "B-dpSBqq0NbG"
      },
      "source": [
        "**Exercise:** Any two people with different birthdays have a \"Double Day\" when one is twice as old as the other.\n",
        "Suppose you are given two `Timestamp` values, `d1` and `d2`, that represent birthdays for two people.  Use `Timestamp` arithmetic to compute their double day.\n",
        "With the following dates, the result should be December 19, 2009."
      ]
    },
    {
      "cell_type": "code",
      "metadata": {
        "id": "q-M0ouz10NbG"
      },
      "source": [
        "d1 = pd.Timestamp('2003-07-12')\n",
        "d2 = pd.Timestamp('2006-09-30')"
      ],
      "execution_count": 66,
      "outputs": []
    },
    {
      "cell_type": "code",
      "metadata": {
        "id": "FO31kDuK0NbH",
        "outputId": "30ca1ca2-f514-4cfa-c5ee-a25be515eec1",
        "colab": {
          "base_uri": "https://localhost:8080/"
        }
      },
      "source": [
        "# Solution goes here\n",
        "dt = d2 - d1\n",
        "double_day = d2 + dt\n",
        "double_day\n"
      ],
      "execution_count": 71,
      "outputs": [
        {
          "output_type": "execute_result",
          "data": {
            "text/plain": [
              "Timestamp('2009-12-19 00:00:00')"
            ]
          },
          "metadata": {
            "tags": []
          },
          "execution_count": 71
        }
      ]
    },
    {
      "cell_type": "markdown",
      "metadata": {
        "id": "2KxKo6JX0NbH"
      },
      "source": [
        "## Location\n",
        "\n",
        "There are many ways to represent geographical locations, but the most common, at least for global data, is latitude and longitude.\n",
        "\n",
        "When stored as strings, latitude and longitude are expressed in degrees with compass directions N, S, E, and W.  For example, this string represents the location of Boston, MA, USA:"
      ]
    },
    {
      "cell_type": "code",
      "metadata": {
        "id": "Ok6yS5Xv0NbH"
      },
      "source": [
        "lat_lon_string = '42.3601° N, 71.0589° W'"
      ],
      "execution_count": 72,
      "outputs": []
    },
    {
      "cell_type": "markdown",
      "metadata": {
        "id": "eIPLGUnq0NbH"
      },
      "source": [
        "When we compute with location information, we use floating-point numbers, with \n",
        "\n",
        "* Positive latitude for the northern hemisphere, negative latitude for the southern hemisphere, and \n",
        "\n",
        "* Positive longitude for the eastern hemisphere and negative longitude for the western hemisphere.\n",
        "\n",
        "Of course, the choice of the origin and the orientation of positive and negative are arbitrary choices that were made for historical reasons.  We might not be able to change conventions like these, but we should be aware that they are conventions.\n",
        "\n",
        "Here's how we might represent the location of Boston with two variables."
      ]
    },
    {
      "cell_type": "code",
      "metadata": {
        "id": "YQeaYKHp0NbH"
      },
      "source": [
        "lat = 42.3601\n",
        "lon = -71.0589"
      ],
      "execution_count": 73,
      "outputs": []
    },
    {
      "cell_type": "markdown",
      "metadata": {
        "id": "DEbUwo250NbI"
      },
      "source": [
        "It is also possible to combine two numbers into a composite value and assign it to a single variable:"
      ]
    },
    {
      "cell_type": "code",
      "metadata": {
        "id": "tFsf1hQZ0NbI",
        "outputId": "1a4c4e3c-220a-4416-cf1c-31de583cee6f",
        "colab": {
          "base_uri": "https://localhost:8080/"
        }
      },
      "source": [
        "boston = lat, lon\n",
        "boston"
      ],
      "execution_count": 74,
      "outputs": [
        {
          "output_type": "execute_result",
          "data": {
            "text/plain": [
              "(42.3601, -71.0589)"
            ]
          },
          "metadata": {
            "tags": []
          },
          "execution_count": 74
        }
      ]
    },
    {
      "cell_type": "markdown",
      "metadata": {
        "id": "Yej9aSKX0NbI"
      },
      "source": [
        "The type of this variable is `tuple`, which is a mathematical term for a value that contains a sequence of elements.  Math people pronounce it \"tuh' ple\", but computational people usually say \"too' ple\".  Take your pick."
      ]
    },
    {
      "cell_type": "code",
      "metadata": {
        "id": "BwlJ6GFS0NbL",
        "outputId": "04f75075-9c82-4305-81b6-450f1e4673e3",
        "colab": {
          "base_uri": "https://localhost:8080/"
        }
      },
      "source": [
        "type(boston)"
      ],
      "execution_count": 75,
      "outputs": [
        {
          "output_type": "execute_result",
          "data": {
            "text/plain": [
              "tuple"
            ]
          },
          "metadata": {
            "tags": []
          },
          "execution_count": 75
        }
      ]
    },
    {
      "cell_type": "markdown",
      "metadata": {
        "id": "A-uzgacf0NbL"
      },
      "source": [
        "If you have a tuple with two elements, you can assign them to two variables, like this:"
      ]
    },
    {
      "cell_type": "code",
      "metadata": {
        "id": "XY06YCob0NbL",
        "outputId": "2e2bb563-99f0-48e2-bfdb-6ec095224e62",
        "colab": {
          "base_uri": "https://localhost:8080/"
        }
      },
      "source": [
        "y, x = boston\n",
        "y"
      ],
      "execution_count": 76,
      "outputs": [
        {
          "output_type": "execute_result",
          "data": {
            "text/plain": [
              "42.3601"
            ]
          },
          "metadata": {
            "tags": []
          },
          "execution_count": 76
        }
      ]
    },
    {
      "cell_type": "code",
      "metadata": {
        "id": "iMVuWtX70NbL",
        "outputId": "874ef951-32ac-48fa-a1d5-5aa162a5550e",
        "colab": {
          "base_uri": "https://localhost:8080/"
        }
      },
      "source": [
        "x"
      ],
      "execution_count": 77,
      "outputs": [
        {
          "output_type": "execute_result",
          "data": {
            "text/plain": [
              "-71.0589"
            ]
          },
          "metadata": {
            "tags": []
          },
          "execution_count": 77
        }
      ]
    },
    {
      "cell_type": "markdown",
      "metadata": {
        "id": "X5A_oUUc0NbM"
      },
      "source": [
        "Notice that I assigned latitude to `y` and longitude to `x`, because a `y` coordinate usually goes up and down like latitude, and an `x` coordinate usually goes side-to-side like longitude."
      ]
    },
    {
      "cell_type": "markdown",
      "metadata": {
        "id": "uR9toWxi0NbM"
      },
      "source": [
        "**Exercise:** Find the latitude and longitude of the place you were born or someplace you think of as your \"home town\".  [You can use this web page to look it up](https://www.latlong.net/).\n",
        "Make a tuple of floating-point numbers that represents that location."
      ]
    },
    {
      "cell_type": "code",
      "metadata": {
        "id": "LBQkn93r0NbM"
      },
      "source": [
        "# Solution goes here\n",
        "mbouda = 5.634610, 10.251550"
      ],
      "execution_count": 91,
      "outputs": []
    },
    {
      "cell_type": "markdown",
      "metadata": {
        "id": "eVribZFc0NbM"
      },
      "source": [
        "## Distance\n",
        "\n",
        "If you are given two tuples that represent locations, you can compute the approximate distance between them, along the surface of the globe, using the haversine function.\n",
        "If you are curious about it, [you can read an explanation in this article](https://janakiev.com/blog/gps-points-distance-python/).\n",
        "To estimate a haversine distance, we have to compute the haversine function, which is defined:\n",
        "\n",
        "$\\mathrm{haversine}(\\theta)=\\sin^2(\\theta/2)$\n",
        "\n",
        "Where $\\theta$ is an angle in radians.\n",
        "We can compute this function in Python like this:"
      ]
    },
    {
      "cell_type": "code",
      "metadata": {
        "id": "c_bAh_gG0NbN",
        "outputId": "381d4a4a-f7d2-48cf-cc5f-7b122c664f74",
        "colab": {
          "base_uri": "https://localhost:8080/"
        }
      },
      "source": [
        "import numpy as np\n",
        "\n",
        "θ = 1\n",
        "np.sin(θ/2)**2"
      ],
      "execution_count": 80,
      "outputs": [
        {
          "output_type": "execute_result",
          "data": {
            "text/plain": [
              "0.22984884706593015"
            ]
          },
          "metadata": {
            "tags": []
          },
          "execution_count": 80
        }
      ]
    },
    {
      "cell_type": "markdown",
      "metadata": {
        "id": "Tu5l751w0NbN"
      },
      "source": [
        "You can use Greek letters in variable names, but there is currently no way to type them in Jupyter/Colab, so I usually copy them from a web page and paste them in.\n",
        "\n",
        "To avoid the inconvenience, it is more common to write out letter names, like this:"
      ]
    },
    {
      "cell_type": "code",
      "metadata": {
        "id": "JvOIB1IE0NbN",
        "outputId": "eab770e8-8b0c-45cb-9418-789cea3e5b38",
        "colab": {
          "base_uri": "https://localhost:8080/"
        }
      },
      "source": [
        "theta = 1\n",
        "np.sin(theta/2)**2"
      ],
      "execution_count": 81,
      "outputs": [
        {
          "output_type": "execute_result",
          "data": {
            "text/plain": [
              "0.22984884706593015"
            ]
          },
          "metadata": {
            "tags": []
          },
          "execution_count": 81
        }
      ]
    },
    {
      "cell_type": "markdown",
      "metadata": {
        "id": "W6M4MkMI0NbN"
      },
      "source": [
        "Remember that the operator for exponentiation is `**`.  \n",
        "In some other languages it's `^`, which is also an operator in Python, but it performs another operation altogether."
      ]
    },
    {
      "cell_type": "markdown",
      "metadata": {
        "tags": [],
        "id": "bR4eKJoH0NbN"
      },
      "source": [
        "**Exercise:** Try out the previous expression, replacing `**` with `^`, and see what error message you get.  Remember this message in case you see it in the future!"
      ]
    },
    {
      "cell_type": "code",
      "metadata": {
        "id": "AlYq0ojS0NbO",
        "outputId": "2cf7b323-9fb6-44bd-ba0e-826fda46cc39",
        "colab": {
          "base_uri": "https://localhost:8080/",
          "height": 214
        }
      },
      "source": [
        "# Solution goes here\n",
        "theta = 1\n",
        "np.sin(theta)^1"
      ],
      "execution_count": 82,
      "outputs": [
        {
          "output_type": "error",
          "ename": "TypeError",
          "evalue": "ignored",
          "traceback": [
            "\u001b[0;31m---------------------------------------------------------------------------\u001b[0m",
            "\u001b[0;31mTypeError\u001b[0m                                 Traceback (most recent call last)",
            "\u001b[0;32m<ipython-input-82-2cb2d031f416>\u001b[0m in \u001b[0;36m<module>\u001b[0;34m()\u001b[0m\n\u001b[1;32m      1\u001b[0m \u001b[0;31m# Solution goes here\u001b[0m\u001b[0;34m\u001b[0m\u001b[0;34m\u001b[0m\u001b[0;34m\u001b[0m\u001b[0m\n\u001b[1;32m      2\u001b[0m \u001b[0mtheta\u001b[0m \u001b[0;34m=\u001b[0m \u001b[0;36m1\u001b[0m\u001b[0;34m\u001b[0m\u001b[0;34m\u001b[0m\u001b[0m\n\u001b[0;32m----> 3\u001b[0;31m \u001b[0mnp\u001b[0m\u001b[0;34m.\u001b[0m\u001b[0msin\u001b[0m\u001b[0;34m(\u001b[0m\u001b[0mtheta\u001b[0m\u001b[0;34m)\u001b[0m\u001b[0;34m^\u001b[0m\u001b[0;36m1\u001b[0m\u001b[0;34m\u001b[0m\u001b[0;34m\u001b[0m\u001b[0m\n\u001b[0m",
            "\u001b[0;31mTypeError\u001b[0m: ufunc 'bitwise_xor' not supported for the input types, and the inputs could not be safely coerced to any supported types according to the casting rule ''safe''"
          ]
        }
      ]
    },
    {
      "cell_type": "markdown",
      "metadata": {
        "id": "pCGJDQCS0NbO"
      },
      "source": [
        "## Defining functions\n",
        "\n",
        "At this point you don't have to know how to define a new function.  But you will see function definitions, so I want to explain the basics now.\n",
        "\n",
        "If we are planning to use an expression like `np.sin(theta/2)**2` more than a few times, we can define a new function that computes it, like this:"
      ]
    },
    {
      "cell_type": "code",
      "metadata": {
        "id": "Py8iz07z0NbO"
      },
      "source": [
        "def haversine(theta):\n",
        "    \"\"\"Compute the haversine function of theta.\"\"\"\n",
        "    return np.sin(theta/2)**2"
      ],
      "execution_count": 83,
      "outputs": []
    },
    {
      "cell_type": "markdown",
      "metadata": {
        "id": "SZbOK2wF0NbO"
      },
      "source": [
        "On the first line, `def` indicates that we are defining a function.\n",
        "\n",
        "The second line is a \"triple-quoted string\", which describes what the function does, but it has no effect when the program runs.\n",
        "\n",
        "On the third line, `return` indicates the result of the function.\n",
        "\n",
        "When you run the previous cell, it creates a new variable called `haversine`.  You can display its value like this:"
      ]
    },
    {
      "cell_type": "code",
      "metadata": {
        "id": "ggZCesat0NbO",
        "outputId": "0de036a2-aa24-4720-bff6-bbcd00460010",
        "colab": {
          "base_uri": "https://localhost:8080/"
        }
      },
      "source": [
        "haversine"
      ],
      "execution_count": 84,
      "outputs": [
        {
          "output_type": "execute_result",
          "data": {
            "text/plain": [
              "<function __main__.haversine>"
            ]
          },
          "metadata": {
            "tags": []
          },
          "execution_count": 84
        }
      ]
    },
    {
      "cell_type": "markdown",
      "metadata": {
        "id": "oO2Cn8940NbP"
      },
      "source": [
        "And you can display its type like this:"
      ]
    },
    {
      "cell_type": "code",
      "metadata": {
        "id": "LVTu1zbL0NbP",
        "outputId": "b434a854-2a6e-4c09-b513-49183d0e3e0f",
        "colab": {
          "base_uri": "https://localhost:8080/"
        }
      },
      "source": [
        "type(haversine)"
      ],
      "execution_count": 86,
      "outputs": [
        {
          "output_type": "execute_result",
          "data": {
            "text/plain": [
              "function"
            ]
          },
          "metadata": {
            "tags": []
          },
          "execution_count": 86
        }
      ]
    },
    {
      "cell_type": "markdown",
      "metadata": {
        "id": "6ofNt9hO0NbP"
      },
      "source": [
        "So `haversine` is a variable that refers to a function.\n",
        "To run the function and compute a result, we have to \"call\" the function and provide a value for `theta`:"
      ]
    },
    {
      "cell_type": "code",
      "metadata": {
        "id": "ACuDQdyp0NbP",
        "outputId": "54c516d7-8cc9-45e4-ec5c-d635183ebf2b",
        "colab": {
          "base_uri": "https://localhost:8080/"
        }
      },
      "source": [
        "haversine(1)"
      ],
      "execution_count": 87,
      "outputs": [
        {
          "output_type": "execute_result",
          "data": {
            "text/plain": [
              "0.22984884706593015"
            ]
          },
          "metadata": {
            "tags": []
          },
          "execution_count": 87
        }
      ]
    },
    {
      "cell_type": "markdown",
      "metadata": {
        "id": "GZMYi8_a0NbP"
      },
      "source": [
        "When you define a function, you create a new variable.  But the function doesn't actually run until you call it."
      ]
    },
    {
      "cell_type": "markdown",
      "metadata": {
        "id": "tnp-QqIP0NbP"
      },
      "source": [
        "## Haversine distance\n",
        "\n",
        "Now we can use `haversine` as part of a function that computes haversine distances.\n",
        "I won't explain this function in as much detail, but if you read through it, you might get a sense of how it works."
      ]
    },
    {
      "cell_type": "code",
      "metadata": {
        "id": "BQ36HoWG0NbQ"
      },
      "source": [
        "def haversine_distance(coord1, coord2):\n",
        "    \"\"\"Haversine distance between two locations.\n",
        "    \n",
        "    coord1: lat-lon as tuple of float \n",
        "    coord2: lat-lon as tuple of float\n",
        "    \n",
        "    returns: distance in km\n",
        "    \"\"\"\n",
        "    R = 6372.8  # Earth radius in km\n",
        "    lat1, lon1 = coord1\n",
        "    lat2, lon2 = coord2\n",
        "    \n",
        "    phi1, phi2 = np.radians(lat1), np.radians(lat2) \n",
        "    dphi       = np.radians(lat2 - lat1)\n",
        "    dlambda    = np.radians(lon2 - lon1)\n",
        "    \n",
        "    a = haversine(dphi) + np.cos(phi1)*np.cos(phi2)*haversine(dlambda)\n",
        "    \n",
        "    distance = 2*R*np.arctan2(np.sqrt(a), np.sqrt(1 - a))\n",
        "    \n",
        "    return distance"
      ],
      "execution_count": 88,
      "outputs": []
    },
    {
      "cell_type": "markdown",
      "metadata": {
        "id": "fb1-j5uP0NbQ"
      },
      "source": [
        "When we call this function, we provide two tuples, each representing a latitude and a longitude.\n",
        "We already have a tuple that represents the location of Boston.\n",
        "Now here's a tuple that represents the location of London, England, UK:"
      ]
    },
    {
      "cell_type": "code",
      "metadata": {
        "id": "bIRF4-r90NbQ"
      },
      "source": [
        "london = 51.5074, -0.1278"
      ],
      "execution_count": 89,
      "outputs": []
    },
    {
      "cell_type": "markdown",
      "metadata": {
        "id": "4Fuq8PGd0NbQ"
      },
      "source": [
        "And here's the haversine distance between Boston and London."
      ]
    },
    {
      "cell_type": "code",
      "metadata": {
        "id": "qmdLthaZ0NbR",
        "outputId": "d6270a32-f558-44b2-c837-61be95afb5fc",
        "colab": {
          "base_uri": "https://localhost:8080/"
        }
      },
      "source": [
        "haversine_distance(boston, london)"
      ],
      "execution_count": 90,
      "outputs": [
        {
          "output_type": "execute_result",
          "data": {
            "text/plain": [
              "5265.656325981015"
            ]
          },
          "metadata": {
            "tags": []
          },
          "execution_count": 90
        }
      ]
    },
    {
      "cell_type": "markdown",
      "metadata": {
        "id": "VrZSa27u0NbR"
      },
      "source": [
        "The actual geographic distance is slightly different because Earth is not a perfect sphere.  But the error of this estimate is less than 1%."
      ]
    },
    {
      "cell_type": "markdown",
      "metadata": {
        "id": "0DM_mgIl0NbR"
      },
      "source": [
        "**Exercise:** Use `haversine_distance` to compute the distance between Boston and your home town from the previous exercise.\n",
        "\n",
        "If possible, use an online map to check the result."
      ]
    },
    {
      "cell_type": "code",
      "metadata": {
        "id": "gi2MFh4l0NbR",
        "outputId": "22f1d5a0-f6f2-4bb2-f678-b4f4811031f4",
        "colab": {
          "base_uri": "https://localhost:8080/"
        }
      },
      "source": [
        "# Solution goes here\n",
        "haversine_distance(boston, mbouda)"
      ],
      "execution_count": 92,
      "outputs": [
        {
          "output_type": "execute_result",
          "data": {
            "text/plain": [
              "8874.77276328327"
            ]
          },
          "metadata": {
            "tags": []
          },
          "execution_count": 92
        }
      ]
    },
    {
      "cell_type": "markdown",
      "metadata": {
        "id": "Tj3iCw_z0NbR"
      },
      "source": [
        "## Geopandas\n",
        "\n",
        "Python provides libraries for working with geographical data.  One of the most popular is Geopandas, which is based on another library called Shapely. \n",
        "Shapely provides `Point` and `LineString` values, which we'll use to represent geographic locations and lines between them."
      ]
    },
    {
      "cell_type": "code",
      "metadata": {
        "id": "C_YWwo-O0NbS"
      },
      "source": [
        "from shapely.geometry import Point, LineString"
      ],
      "execution_count": 94,
      "outputs": []
    },
    {
      "cell_type": "markdown",
      "metadata": {
        "id": "0TfBQJyZ0NbS"
      },
      "source": [
        "We can use the tuples we defined in the previous section to create Shapely `Point` values, but we have to reverse the order of the coordinates, providing them in $x$-$y$ order rather than `lat`-`lon` order, because that's the order the `Point` function expects."
      ]
    },
    {
      "cell_type": "code",
      "metadata": {
        "id": "f75r9Ftj0NbS"
      },
      "source": [
        "lat, lon = boston\n",
        "p1 = Point(lon, lat)"
      ],
      "execution_count": 95,
      "outputs": []
    },
    {
      "cell_type": "code",
      "metadata": {
        "id": "w9T4Krjl0NbS"
      },
      "source": [
        "lat, lon = london\n",
        "p2 = Point(lon, lat)"
      ],
      "execution_count": 96,
      "outputs": []
    },
    {
      "cell_type": "markdown",
      "metadata": {
        "tags": [],
        "id": "b32EDWcD0NbS"
      },
      "source": [
        "If we display a `Point` value, we get a graphical representation, but not a very useful one."
      ]
    },
    {
      "cell_type": "code",
      "metadata": {
        "tags": [],
        "id": "kvt1w7AL0NbT",
        "outputId": "d9764a93-1cfd-4d77-83c8-9bf34ecb956d",
        "colab": {
          "base_uri": "https://localhost:8080/",
          "height": 121
        }
      },
      "source": [
        "p1"
      ],
      "execution_count": 97,
      "outputs": [
        {
          "output_type": "execute_result",
          "data": {
            "text/plain": [
              "<shapely.geometry.point.Point at 0x7f54c4983210>"
            ],
            "image/svg+xml": "<svg xmlns=\"http://www.w3.org/2000/svg\" xmlns:xlink=\"http://www.w3.org/1999/xlink\" width=\"100.0\" height=\"100.0\" viewBox=\"-72.0589 41.3601 2.0 2.0\" preserveAspectRatio=\"xMinYMin meet\"><g transform=\"matrix(1,0,0,-1,0,84.7202)\"><circle cx=\"-71.0589\" cy=\"42.3601\" r=\"0.06\" stroke=\"#555555\" stroke-width=\"0.02\" fill=\"#66cc99\" opacity=\"0.6\" /></g></svg>"
          },
          "metadata": {
            "tags": []
          },
          "execution_count": 97
        }
      ]
    },
    {
      "cell_type": "markdown",
      "metadata": {
        "id": "9uTfgwFd0NbT"
      },
      "source": [
        "We can use the points we just defined to create a `LineString`:"
      ]
    },
    {
      "cell_type": "code",
      "metadata": {
        "id": "-ArJhiF10NbT"
      },
      "source": [
        "line = LineString([p1, p2])"
      ],
      "execution_count": 98,
      "outputs": []
    },
    {
      "cell_type": "markdown",
      "metadata": {
        "tags": [],
        "id": "PBhNFJA70NbT"
      },
      "source": [
        "If we display the result, we get another not very useful graphical representation."
      ]
    },
    {
      "cell_type": "code",
      "metadata": {
        "tags": [],
        "id": "oXvmTxf00NbU",
        "outputId": "30cc3396-60f2-4c13-a84b-83579d13d856",
        "colab": {
          "base_uri": "https://localhost:8080/",
          "height": 121
        }
      },
      "source": [
        "line"
      ],
      "execution_count": 99,
      "outputs": [
        {
          "output_type": "execute_result",
          "data": {
            "text/plain": [
              "<shapely.geometry.linestring.LineString at 0x7f54c497c210>"
            ],
            "image/svg+xml": "<svg xmlns=\"http://www.w3.org/2000/svg\" xmlns:xlink=\"http://www.w3.org/1999/xlink\" width=\"100.0\" height=\"100.0\" viewBox=\"-73.89614399999999 39.522856000000004 76.605588 14.82178799999999\" preserveAspectRatio=\"xMinYMin meet\"><g transform=\"matrix(1,0,0,-1,0,93.8675)\"><polyline fill=\"none\" stroke=\"#66cc99\" stroke-width=\"1.53211176\" points=\"-71.0589,42.3601 -0.1278,51.5074\" opacity=\"0.8\" /></g></svg>"
          },
          "metadata": {
            "tags": []
          },
          "execution_count": 99
        }
      ]
    },
    {
      "cell_type": "markdown",
      "metadata": {
        "tags": [],
        "id": "nQmgwHRt0NbU"
      },
      "source": [
        "If you are running this notebook on Colab, the following cell will install Geopandas, which should only take a few seconds.  It uses features we have not seen yet; you might be able to read it and guess how it works, but you don't have to."
      ]
    },
    {
      "cell_type": "code",
      "metadata": {
        "tags": [],
        "id": "hxlY6Nhc0NbU",
        "outputId": "bd961523-2fbd-4efd-828e-8162978ce0a4",
        "colab": {
          "base_uri": "https://localhost:8080/"
        }
      },
      "source": [
        "import sys\n",
        "IN_COLAB = 'google.colab' in sys.modules\n",
        "\n",
        "if IN_COLAB:\n",
        "    !pip install geopandas"
      ],
      "execution_count": 100,
      "outputs": [
        {
          "output_type": "stream",
          "text": [
            "Collecting geopandas\n",
            "\u001b[?25l  Downloading https://files.pythonhosted.org/packages/d7/bf/e9cefb69d39155d122b6ddca53893b61535fa6ffdad70bf5ef708977f53f/geopandas-0.9.0-py2.py3-none-any.whl (994kB)\n",
            "\u001b[K     |████████████████████████████████| 1.0MB 5.7MB/s \n",
            "\u001b[?25hCollecting fiona>=1.8\n",
            "\u001b[?25l  Downloading https://files.pythonhosted.org/packages/ea/2a/404b22883298a3efe9c6ef8d67acbf2c38443fa366ee9cd4cd34e17626ea/Fiona-1.8.19-cp37-cp37m-manylinux1_x86_64.whl (15.3MB)\n",
            "\u001b[K     |████████████████████████████████| 15.3MB 241kB/s \n",
            "\u001b[?25hRequirement already satisfied: pandas>=0.24.0 in /usr/local/lib/python3.7/dist-packages (from geopandas) (1.1.5)\n",
            "Collecting pyproj>=2.2.0\n",
            "\u001b[?25l  Downloading https://files.pythonhosted.org/packages/11/1d/1c54c672c2faf08d28fe78e15d664c048f786225bef95ad87b6c435cf69e/pyproj-3.1.0-cp37-cp37m-manylinux2010_x86_64.whl (6.6MB)\n",
            "\u001b[K     |████████████████████████████████| 6.6MB 25.4MB/s \n",
            "\u001b[?25hRequirement already satisfied: shapely>=1.6 in /usr/local/lib/python3.7/dist-packages (from geopandas) (1.7.1)\n",
            "Requirement already satisfied: six>=1.7 in /usr/local/lib/python3.7/dist-packages (from fiona>=1.8->geopandas) (1.15.0)\n",
            "Collecting munch\n",
            "  Downloading https://files.pythonhosted.org/packages/cc/ab/85d8da5c9a45e072301beb37ad7f833cd344e04c817d97e0cc75681d248f/munch-2.5.0-py2.py3-none-any.whl\n",
            "Requirement already satisfied: attrs>=17 in /usr/local/lib/python3.7/dist-packages (from fiona>=1.8->geopandas) (21.2.0)\n",
            "Collecting click-plugins>=1.0\n",
            "  Downloading https://files.pythonhosted.org/packages/e9/da/824b92d9942f4e472702488857914bdd50f73021efea15b4cad9aca8ecef/click_plugins-1.1.1-py2.py3-none-any.whl\n",
            "Requirement already satisfied: certifi in /usr/local/lib/python3.7/dist-packages (from fiona>=1.8->geopandas) (2020.12.5)\n",
            "Requirement already satisfied: click<8,>=4.0 in /usr/local/lib/python3.7/dist-packages (from fiona>=1.8->geopandas) (7.1.2)\n",
            "Collecting cligj>=0.5\n",
            "  Downloading https://files.pythonhosted.org/packages/73/86/43fa9f15c5b9fb6e82620428827cd3c284aa933431405d1bcf5231ae3d3e/cligj-0.7.2-py3-none-any.whl\n",
            "Requirement already satisfied: pytz>=2017.2 in /usr/local/lib/python3.7/dist-packages (from pandas>=0.24.0->geopandas) (2018.9)\n",
            "Requirement already satisfied: python-dateutil>=2.7.3 in /usr/local/lib/python3.7/dist-packages (from pandas>=0.24.0->geopandas) (2.8.1)\n",
            "Requirement already satisfied: numpy>=1.15.4 in /usr/local/lib/python3.7/dist-packages (from pandas>=0.24.0->geopandas) (1.19.5)\n",
            "Installing collected packages: munch, click-plugins, cligj, fiona, pyproj, geopandas\n",
            "Successfully installed click-plugins-1.1.1 cligj-0.7.2 fiona-1.8.19 geopandas-0.9.0 munch-2.5.0 pyproj-3.1.0\n"
          ],
          "name": "stdout"
        }
      ]
    },
    {
      "cell_type": "markdown",
      "metadata": {
        "id": "dWGoJ2aI0NbU"
      },
      "source": [
        "Now we can use Geopandas to show these points and lines on a map.\n",
        "The following code loads a map of the world and plots it."
      ]
    },
    {
      "cell_type": "code",
      "metadata": {
        "id": "hZxX5VoW0NbU",
        "outputId": "842eda15-4c29-4b84-8724-956f6b75004a",
        "colab": {
          "base_uri": "https://localhost:8080/",
          "height": 210
        }
      },
      "source": [
        "import geopandas as gpd\n",
        "\n",
        "path = gpd.datasets.get_path('naturalearth_lowres')\n",
        "world = gpd.read_file(path)\n",
        "world.plot(color='white', edgecolor='gray');"
      ],
      "execution_count": 101,
      "outputs": [
        {
          "output_type": "display_data",
          "data": {
            "image/png": "[encoded data removed]",
            "text/plain": [
              "<Figure size 432x288 with 1 Axes>"
            ]
          },
          "metadata": {
            "tags": [],
            "needs_background": "light"
          }
        }
      ]
    },
    {
      "cell_type": "markdown",
      "metadata": {
        "id": "Cmyh7hGn0NbV"
      },
      "source": [
        "By default, Geopandas uses an equirectangular projection, which provides a misleading picture of relative land areas (see <https://en.wikipedia.org/wiki/Equirectangular_projection>).\n",
        "You can't make a map without making visualization decisions.\n",
        "\n",
        "Now let's put dots on the map for Boston and London.  We have to put the `Point` values and the `LineString` into a `GeoSeries`."
      ]
    },
    {
      "cell_type": "code",
      "metadata": {
        "id": "N65gmUbj0NbV"
      },
      "source": [
        "cape_town = -33.924870, 18.424055 \n",
        "douala = 4.054860, 9.698720\n",
        "gr_p = Point(*cape_town)\n",
        "mb_p = Point(*mbouda)\n",
        "line2 = LineString([mb_p, p1])\n",
        "gr_mb_line = LineString([gr_p, mb_p])\n",
        "t = [gr_p, mb_p, gr_mb_line, p1, p2, line, p1, mb_p, line2]\n",
        "series = gpd.GeoSeries(t)"
      ],
      "execution_count": 127,
      "outputs": []
    },
    {
      "cell_type": "markdown",
      "metadata": {
        "id": "coO8DRDk0NbV"
      },
      "source": [
        "Here's a first attempt to plot the maps and the lines together:"
      ]
    },
    {
      "cell_type": "code",
      "metadata": {
        "id": "hoRhR79b0NbV",
        "outputId": "ba78feca-78e4-4b7a-cadf-7cb011adbeda",
        "colab": {
          "base_uri": "https://localhost:8080/",
          "height": 421
        }
      },
      "source": [
        "# plot the map\n",
        "world.plot(color='white', edgecolor='gray')\n",
        "\n",
        "# plot Boston, London, and the line\n",
        "series.plot();"
      ],
      "execution_count": 128,
      "outputs": [
        {
          "output_type": "display_data",
          "data": {
            "image/png": "[encoded data removed]",
            "text/plain": [
              "<Figure size 432x288 with 1 Axes>"
            ]
          },
          "metadata": {
            "tags": [],
            "needs_background": "light"
          }
        },
        {
          "output_type": "display_data",
          "data": {
            "image/png": "[encoded data removed]",
            "text/plain": [
              "<Figure size 432x288 with 1 Axes>"
            ]
          },
          "metadata": {
            "tags": [],
            "needs_background": "light"
          }
        }
      ]
    },
    {
      "cell_type": "markdown",
      "metadata": {
        "id": "zgiYr2VW0NbV"
      },
      "source": [
        "The two plots are on different axes, which is not what we want in this case.\n",
        "\n",
        "To get the points and the map on the same axes, we have to use a function from Matplotlib, which is a visualization library we will use extensively.  We'll import it like this."
      ]
    },
    {
      "cell_type": "code",
      "metadata": {
        "id": "Svo2glri0NbW"
      },
      "source": [
        "import matplotlib.pyplot as plt"
      ],
      "execution_count": 129,
      "outputs": []
    },
    {
      "cell_type": "markdown",
      "metadata": {
        "id": "6TG2_lI80NbW"
      },
      "source": [
        "The function is `gca`, which stands for \"get current axes\".  We can use the result to tell `plot` to put the points and lines on the current axes, rather than create a new one."
      ]
    },
    {
      "cell_type": "code",
      "metadata": {
        "id": "C9g1aGgK0NbW",
        "outputId": "86dc6ef5-5ae0-456e-d574-9d9988ca89f6",
        "colab": {
          "base_uri": "https://localhost:8080/",
          "height": 209
        }
      },
      "source": [
        "ax = plt.gca()\n",
        "world.plot(color='white', edgecolor='gray', ax=ax)\n",
        "series.plot(ax=ax);"
      ],
      "execution_count": 130,
      "outputs": [
        {
          "output_type": "display_data",
          "data": {
            "image/png": "[encoded data removed]",
            "text/plain": [
              "<Figure size 432x288 with 1 Axes>"
            ]
          },
          "metadata": {
            "tags": [],
            "needs_background": "light"
          }
        }
      ]
    },
    {
      "cell_type": "markdown",
      "metadata": {
        "tags": [],
        "id": "nYkP-3Ab0NbW"
      },
      "source": [
        "Finally, `plt` provides a function called `figure` we can use to set the figure size."
      ]
    },
    {
      "cell_type": "code",
      "metadata": {
        "tags": [],
        "id": "Y9yVpVzl0NbX",
        "outputId": "b4957663-c415-4a85-970e-db1ea06df073",
        "colab": {
          "base_uri": "https://localhost:8080/",
          "height": 371
        }
      },
      "source": [
        "plt.figure(figsize=(12, 12))\n",
        "ax = plt.gca()\n",
        "\n",
        "# plot the map\n",
        "world.plot(color='white', edgecolor='gray', ax=ax)\n",
        "\n",
        "# plot Boston, London, and the line\n",
        "series.plot(ax=ax);"
      ],
      "execution_count": 131,
      "outputs": [
        {
          "output_type": "display_data",
          "data": {
            "image/png": "[encoded data removed]",
            "text/plain": [
              "<Figure size 864x864 with 1 Axes>"
            ]
          },
          "metadata": {
            "tags": [],
            "needs_background": "light"
          }
        }
      ]
    },
    {
      "cell_type": "markdown",
      "metadata": {
        "id": "_SWxB4Iv0NbX"
      },
      "source": [
        "There are a few features in this example I have not explained completely, but hopefully you get the idea."
      ]
    },
    {
      "cell_type": "markdown",
      "metadata": {
        "id": "DMkqVJSi0NbX"
      },
      "source": [
        "**Exercise:** Modify the code in this section to plot a point that shows the home town you chose in a previous exercise and a line from there to Boston."
      ]
    },
    {
      "cell_type": "markdown",
      "metadata": {
        "tags": [],
        "id": "az2ipUl-0NbX"
      },
      "source": [
        "Then go to [this online survey](https://forms.gle/2LDcqxJmcWY3Q3X47) and answer the questions there."
      ]
    },
    {
      "cell_type": "code",
      "metadata": {
        "id": "CyN7wyrS0NbX"
      },
      "source": [
        ""
      ],
      "execution_count": null,
      "outputs": []
    }
  ]
}